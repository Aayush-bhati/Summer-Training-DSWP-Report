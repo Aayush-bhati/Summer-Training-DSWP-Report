{
 "cells": [
  {
   "cell_type": "markdown",
   "id": "291793b2",
   "metadata": {},
   "source": [
    "### 1. Import a 311 NYC service request.\n",
    "Reading, Understanding and Optimizing data : </br>\n",
    "As a part of data wrangling, first, we need to read and understand the data (features/columns) very clearly. Once we understand the data properly, we can plan for subsequent steps. The data need to be simplified (reduction/simplification) for further analysis. With the simplified data (which can be analyzed in an easy way), we can predict (inferences) some insight that can be used for future purposes."
   ]
  },
  {
   "cell_type": "code",
   "execution_count": null,
   "id": "3b0d1d44",
   "metadata": {},
   "outputs": [],
   "source": [
    "#import the warnings.\n",
    "import warnings\n",
    "warnings.filterwarnings(\"ignore\")"
   ]
  },
  {
   "cell_type": "code",
   "execution_count": 78,
   "id": "ec7369d7",
   "metadata": {},
   "outputs": [],
   "source": [
    "# Importing required libraries\n",
    "\n",
    "import numpy as np\n",
    "import pandas as pd\n",
    "import matplotlib\n",
    "import matplotlib.pyplot as plt\n",
    "import seaborn as sns\n",
    "import datetime\n",
    "import calendar"
   ]
  },
  {
   "cell_type": "code",
   "execution_count": 79,
   "id": "8ea9bb5f",
   "metadata": {},
   "outputs": [
    {
     "data": {
      "text/plain": [
       "\"import io\\nimport requests\\nc =requests.get('311_Service_Requests_from_2010_to_Present.csv',verify= False)\\ns=c.content\\ndata = pd.read_csv(io.StringIO(s.decode('utf-8'))) \""
      ]
     },
     "execution_count": 79,
     "metadata": {},
     "output_type": "execute_result"
    }
   ],
   "source": [
    "data = pd.read_csv('311_Service_Requests_from_2010_to_Present.csv')\n",
    "'''import io\n",
    "import requests\n",
    "c =requests.get('311_Service_Requests_from_2010_to_Present.csv',verify= False)\n",
    "s=c.content\n",
    "data = pd.read_csv(io.StringIO(s.decode('utf-8'))) '''\n"
   ]
  },
  {
   "cell_type": "code",
   "execution_count": null,
   "id": "f4a4b215",
   "metadata": {},
   "outputs": [],
   "source": [
    "# Looking for features (columns) \n",
    "\n",
    "data.columns"
   ]
  },
  {
   "cell_type": "code",
   "execution_count": null,
   "id": "40890ff8",
   "metadata": {},
   "outputs": [],
   "source": [
    "data.info()"
   ]
  },
  {
   "cell_type": "code",
   "execution_count": null,
   "id": "8d9aed42",
   "metadata": {},
   "outputs": [],
   "source": [
    "# Setting the option to view all columns of the dataset and view the data for any 4 random entries\n",
    "\n",
    "pd.set_option('display.max_columns',None)\n",
    "data.sample(4)"
   ]
  },
  {
   "cell_type": "markdown",
   "id": "3a202032",
   "metadata": {},
   "source": [
    "Now, we need to understand each feature one by one. If the feature contains all Nun or all same entries or maybe, all different entries, then we will omit such columns, since these columns do not contain information that is statistically meaningful or can give us any trend.\n",
    "\n",
    "For instance, the 'Unique Key' column has a different number for each entry whereas columns like 'Agency Name', 'Complaint Type' have a different group of lists from which we can predict which kind of complaint occurs more often (e.g frequency distribution). So we can improve our future prediction and even can take some precautions (if permissible)."
   ]
  },
  {
   "cell_type": "code",
   "execution_count": null,
   "id": "57ec957b",
   "metadata": {},
   "outputs": [],
   "source": [
    "# Dropping columns and saving it in another data frame\n",
    "\n",
    "data_mod = data.drop(columns=['Unique Key'],axis=1)\n",
    "data_mod.columns"
   ]
  },
  {
   "cell_type": "code",
   "execution_count": null,
   "id": "f625053e",
   "metadata": {},
   "outputs": [],
   "source": [
    "# To evaluate distinguishable outcomes belong to this feature\n",
    "\n",
    "pd.unique(data['Agency'])"
   ]
  },
  {
   "cell_type": "code",
   "execution_count": 9,
   "id": "28f9d397",
   "metadata": {},
   "outputs": [
    {
     "data": {
      "text/plain": [
       "NYPD    300698\n",
       "Name: Agency, dtype: int64"
      ]
     },
     "execution_count": 9,
     "metadata": {},
     "output_type": "execute_result"
    }
   ],
   "source": [
    "# Frequency of the different outcomes\n",
    "\n",
    "data['Agency'].value_counts()"
   ]
  },
  {
   "cell_type": "code",
   "execution_count": 10,
   "id": "e3236acc",
   "metadata": {},
   "outputs": [
    {
     "data": {
      "text/plain": [
       "array(['New York City Police Department', 'NYPD',\n",
       "       'Internal Affairs Bureau'], dtype=object)"
      ]
     },
     "execution_count": 10,
     "metadata": {},
     "output_type": "execute_result"
    }
   ],
   "source": [
    "data_mod = data_mod.drop(columns=['Agency'],axis=1)\n",
    "pd.unique(data['Agency Name'])"
   ]
  },
  {
   "cell_type": "code",
   "execution_count": 11,
   "id": "9825cf3f",
   "metadata": {},
   "outputs": [
    {
     "data": {
      "text/plain": [
       "New York City Police Department    300690\n",
       "Internal Affairs Bureau                 6\n",
       "NYPD                                    2\n",
       "Name: Agency Name, dtype: int64"
      ]
     },
     "execution_count": 11,
     "metadata": {},
     "output_type": "execute_result"
    }
   ],
   "source": [
    "data['Agency Name'].value_counts()"
   ]
  },
  {
   "cell_type": "code",
   "execution_count": 12,
   "id": "ff8e89e1",
   "metadata": {},
   "outputs": [
    {
     "data": {
      "text/plain": [
       "Blocked Driveway           77044\n",
       "Illegal Parking            75361\n",
       "Noise - Street/Sidewalk    48612\n",
       "Noise - Commercial         35577\n",
       "Derelict Vehicle           17718\n",
       "Name: Complaint Type, dtype: int64"
      ]
     },
     "execution_count": 12,
     "metadata": {},
     "output_type": "execute_result"
    }
   ],
   "source": [
    "data['Complaint Type'].value_counts().head(5)"
   ]
  },
  {
   "cell_type": "code",
   "execution_count": 13,
   "id": "34e25250",
   "metadata": {},
   "outputs": [
    {
     "data": {
      "text/plain": [
       "Loud Music/Party                 61430\n",
       "No Access                        56976\n",
       "Posted Parking Sign Violation    22440\n",
       "Loud Talking                     21584\n",
       "Partial Access                   20068\n",
       "Name: Descriptor, dtype: int64"
      ]
     },
     "execution_count": 13,
     "metadata": {},
     "output_type": "execute_result"
    }
   ],
   "source": [
    "data.Descriptor.value_counts().head(5)"
   ]
  },
  {
   "cell_type": "code",
   "execution_count": 14,
   "id": "45f4c3f3",
   "metadata": {},
   "outputs": [
    {
     "data": {
      "text/plain": [
       "Street/Sidewalk               249299\n",
       "Store/Commercial               20381\n",
       "Club/Bar/Restaurant            17360\n",
       "Residential Building/House      6960\n",
       "Name: Location Type, dtype: int64"
      ]
     },
     "execution_count": 14,
     "metadata": {},
     "output_type": "execute_result"
    }
   ],
   "source": [
    "data['Location Type'].value_counts().head(4)"
   ]
  },
  {
   "cell_type": "code",
   "execution_count": 15,
   "id": "e6c1c20e",
   "metadata": {},
   "outputs": [
    {
     "data": {
      "text/plain": [
       "11385.0    5167\n",
       "11368.0    4298\n",
       "11211.0    4225\n",
       "11234.0    4150\n",
       "Name: Incident Zip, dtype: int64"
      ]
     },
     "execution_count": 15,
     "metadata": {},
     "output_type": "execute_result"
    }
   ],
   "source": [
    "data['Incident Zip'].value_counts().head(4)"
   ]
  },
  {
   "cell_type": "code",
   "execution_count": 16,
   "id": "cde20159",
   "metadata": {},
   "outputs": [
    {
     "data": {
      "text/plain": [
       "1207 BEACH AVENUE          904\n",
       "78-15 PARSONS BOULEVARD    505\n",
       "89 MOORE STREET            480\n",
       "177 LAREDO AVENUE          311\n",
       "Name: Incident Address, dtype: int64"
      ]
     },
     "execution_count": 16,
     "metadata": {},
     "output_type": "execute_result"
    }
   ],
   "source": [
    "data['Incident Address'].value_counts().head(4)"
   ]
  },
  {
   "cell_type": "code",
   "execution_count": 17,
   "id": "11264b5c",
   "metadata": {},
   "outputs": [
    {
     "data": {
      "text/plain": [
       "BROADWAY          3237\n",
       "3 AVENUE          1241\n",
       "SHERMAN AVENUE    1156\n",
       "BEACH AVENUE      1109\n",
       "BEDFORD AVENUE     979\n",
       "Name: Street Name, dtype: int64"
      ]
     },
     "execution_count": 17,
     "metadata": {},
     "output_type": "execute_result"
    }
   ],
   "source": [
    "data['Street Name'].value_counts().head(5)"
   ]
  },
  {
   "cell_type": "code",
   "execution_count": 18,
   "id": "bf0fdaaa",
   "metadata": {},
   "outputs": [
    {
     "data": {
      "text/plain": [
       "BROADWAY    4338\n",
       "BEND        4129\n",
       "3 AVENUE    3112\n",
       "5 AVENUE    3035\n",
       "Name: Cross Street 1, dtype: int64"
      ]
     },
     "execution_count": 18,
     "metadata": {},
     "output_type": "execute_result"
    }
   ],
   "source": [
    "data['Cross Street 1'].value_counts().head(4)"
   ]
  },
  {
   "cell_type": "code",
   "execution_count": 19,
   "id": "4821150e",
   "metadata": {},
   "outputs": [
    {
     "data": {
      "text/plain": [
       "BEND        4391\n",
       "BROADWAY    3784\n",
       "8 AVENUE    2766\n",
       "DEAD END    2144\n",
       "Name: Cross Street 2, dtype: int64"
      ]
     },
     "execution_count": 19,
     "metadata": {},
     "output_type": "execute_result"
    }
   ],
   "source": [
    "data['Cross Street 2'].value_counts().head(4)"
   ]
  },
  {
   "cell_type": "code",
   "execution_count": 20,
   "id": "b96de848",
   "metadata": {},
   "outputs": [
    {
     "data": {
      "text/plain": [
       "BROADWAY      672\n",
       "170 STREET    441\n",
       "44 STREET     355\n",
       "6 AVENUE      348\n",
       "Name: Intersection Street 1, dtype: int64"
      ]
     },
     "execution_count": 20,
     "metadata": {},
     "output_type": "execute_result"
    }
   ],
   "source": [
    "data['Intersection Street 1'].value_counts().head(4)"
   ]
  },
  {
   "cell_type": "code",
   "execution_count": 21,
   "id": "07bff2e1",
   "metadata": {},
   "outputs": [
    {
     "data": {
      "text/plain": [
       "BROADWAY    1358\n",
       "6 AVENUE     715\n",
       "2 AVENUE     617\n",
       "5 AVENUE     551\n",
       "Name: Intersection Street 2, dtype: int64"
      ]
     },
     "execution_count": 21,
     "metadata": {},
     "output_type": "execute_result"
    }
   ],
   "source": [
    "data['Intersection Street 2'].value_counts().head(4)"
   ]
  },
  {
   "cell_type": "code",
   "execution_count": 22,
   "id": "01ba7b28",
   "metadata": {},
   "outputs": [
    {
     "data": {
      "text/plain": [
       "ADDRESS         238644\n",
       "INTERSECTION     43366\n",
       "BLOCKFACE        12014\n",
       "LATLONG           3509\n",
       "Name: Address Type, dtype: int64"
      ]
     },
     "execution_count": 22,
     "metadata": {},
     "output_type": "execute_result"
    }
   ],
   "source": [
    "data['Address Type'].value_counts().head(4)"
   ]
  },
  {
   "cell_type": "code",
   "execution_count": 23,
   "id": "aaec44c0",
   "metadata": {},
   "outputs": [
    {
     "data": {
      "text/plain": [
       "BROOKLYN         98307\n",
       "NEW YORK         65994\n",
       "BRONX            40702\n",
       "STATEN ISLAND    12343\n",
       "Name: City, dtype: int64"
      ]
     },
     "execution_count": 23,
     "metadata": {},
     "output_type": "execute_result"
    }
   ],
   "source": [
    "data['City'].value_counts().head(4)"
   ]
  },
  {
   "cell_type": "code",
   "execution_count": 24,
   "id": "054d5a56",
   "metadata": {},
   "outputs": [
    {
     "data": {
      "text/plain": [
       "CENTRAL PARK              67\n",
       "PROSPECT PARK             22\n",
       "WASHINGTON SQUARE PARK    16\n",
       "SUNSET PARK               13\n",
       "UNION SQUARE PARK         13\n",
       "Name: Landmark, dtype: int64"
      ]
     },
     "execution_count": 24,
     "metadata": {},
     "output_type": "execute_result"
    }
   ],
   "source": [
    "data.Landmark.value_counts().head(5)"
   ]
  },
  {
   "cell_type": "code",
   "execution_count": 25,
   "id": "c715c74c",
   "metadata": {},
   "outputs": [
    {
     "data": {
      "text/plain": [
       "Precinct    298527\n",
       "Name: Facility Type, dtype: int64"
      ]
     },
     "execution_count": 25,
     "metadata": {},
     "output_type": "execute_result"
    }
   ],
   "source": [
    "data['Facility Type'].value_counts()"
   ]
  },
  {
   "cell_type": "code",
   "execution_count": 26,
   "id": "66561360",
   "metadata": {},
   "outputs": [
    {
     "data": {
      "text/plain": [
       "Closed      298471\n",
       "Open          1439\n",
       "Assigned       786\n",
       "Draft            2\n",
       "Name: Status, dtype: int64"
      ]
     },
     "execution_count": 26,
     "metadata": {},
     "output_type": "execute_result"
    }
   ],
   "source": [
    "data.Status.value_counts()"
   ]
  },
  {
   "cell_type": "code",
   "execution_count": 27,
   "id": "2e8ae021",
   "metadata": {},
   "outputs": [
    {
     "data": {
      "text/plain": [
       "11-07-15 7:34    9\n",
       "06-07-15 6:23    9\n",
       "07-12-15 7:04    9\n",
       "11-02-15 6:12    8\n",
       "Name: Due Date, dtype: int64"
      ]
     },
     "execution_count": 27,
     "metadata": {},
     "output_type": "execute_result"
    }
   ],
   "source": [
    "data['Due Date'].value_counts().head(4)"
   ]
  },
  {
   "cell_type": "code",
   "execution_count": 28,
   "id": "daa79d89",
   "metadata": {},
   "outputs": [
    {
     "data": {
      "text/plain": [
       "The Police Department responded to the complaint and with the information available observed no evidence of the violation at that time.    90490\n",
       "The Police Department responded to the complaint and took action to fix the condition.                                                     61624\n",
       "The Police Department responded and upon arrival those responsible for the condition were gone.                                            58031\n",
       "The Police Department responded to the complaint and determined that police action was not necessary.                                      38211\n",
       "Name: Resolution Description, dtype: int64"
      ]
     },
     "execution_count": 28,
     "metadata": {},
     "output_type": "execute_result"
    }
   ],
   "source": [
    "data['Resolution Description'].value_counts().head(4)"
   ]
  },
  {
   "cell_type": "code",
   "execution_count": 29,
   "id": "0c529c50",
   "metadata": {},
   "outputs": [
    {
     "data": {
      "text/plain": [
       "Unspecified                        300697\n",
       "Alley Pond Park - Nature Center         1\n",
       "Name: School Name, dtype: int64"
      ]
     },
     "execution_count": 29,
     "metadata": {},
     "output_type": "execute_result"
    }
   ],
   "source": [
    "data['School Name'].value_counts()"
   ]
  },
  {
   "cell_type": "code",
   "execution_count": 30,
   "id": "f0c947a9",
   "metadata": {},
   "outputs": [
    {
     "data": {
      "text/plain": [
       "Unspecified    300697\n",
       "Q001                1\n",
       "Name: School Number, dtype: int64"
      ]
     },
     "execution_count": 30,
     "metadata": {},
     "output_type": "execute_result"
    }
   ],
   "source": [
    "data['School Number'].value_counts()"
   ]
  },
  {
   "cell_type": "code",
   "execution_count": 31,
   "id": "4ca38816",
   "metadata": {},
   "outputs": [
    {
     "data": {
      "text/plain": [
       "Unspecified    300697\n",
       "Name: School Region, dtype: int64"
      ]
     },
     "execution_count": 31,
     "metadata": {},
     "output_type": "execute_result"
    }
   ],
   "source": [
    "data['School Region'].value_counts()"
   ]
  },
  {
   "cell_type": "code",
   "execution_count": 32,
   "id": "ed662f48",
   "metadata": {},
   "outputs": [
    {
     "data": {
      "text/plain": [
       "N    300698\n",
       "Name: School Not Found, dtype: int64"
      ]
     },
     "execution_count": 32,
     "metadata": {},
     "output_type": "execute_result"
    }
   ],
   "source": [
    "data['School Not Found'].value_counts()"
   ]
  },
  {
   "cell_type": "code",
   "execution_count": 33,
   "id": "60b85a76",
   "metadata": {},
   "outputs": [
    {
     "data": {
      "text/plain": [
       "Unspecified    300697\n",
       "Name: School Code, dtype: int64"
      ]
     },
     "execution_count": 33,
     "metadata": {},
     "output_type": "execute_result"
    }
   ],
   "source": [
    "data['School Code'].value_counts()"
   ]
  },
  {
   "cell_type": "code",
   "execution_count": 34,
   "id": "fd383185",
   "metadata": {},
   "outputs": [
    {
     "data": {
      "text/plain": [
       "Unspecified    300697\n",
       "7182176034          1\n",
       "Name: School Phone Number, dtype: int64"
      ]
     },
     "execution_count": 34,
     "metadata": {},
     "output_type": "execute_result"
    }
   ],
   "source": [
    "data['School Phone Number'].value_counts()"
   ]
  },
  {
   "cell_type": "code",
   "execution_count": 35,
   "id": "516e09b5",
   "metadata": {},
   "outputs": [
    {
     "data": {
      "text/plain": [
       "Unspecified                                     300697\n",
       "Grand Central Parkway, near the soccer field         1\n",
       "Name: School Address, dtype: int64"
      ]
     },
     "execution_count": 35,
     "metadata": {},
     "output_type": "execute_result"
    }
   ],
   "source": [
    "data['School Address'].value_counts()"
   ]
  },
  {
   "cell_type": "code",
   "execution_count": 36,
   "id": "c51b4637",
   "metadata": {},
   "outputs": [
    {
     "data": {
      "text/plain": [
       "Unspecified    300697\n",
       "QUEENS              1\n",
       "Name: School City, dtype: int64"
      ]
     },
     "execution_count": 36,
     "metadata": {},
     "output_type": "execute_result"
    }
   ],
   "source": [
    "data['School City'].value_counts()"
   ]
  },
  {
   "cell_type": "code",
   "execution_count": 37,
   "id": "8707b2a6",
   "metadata": {},
   "outputs": [
    {
     "data": {
      "text/plain": [
       "Unspecified    300697\n",
       "NY                  1\n",
       "Name: School State, dtype: int64"
      ]
     },
     "execution_count": 37,
     "metadata": {},
     "output_type": "execute_result"
    }
   ],
   "source": [
    "data['School State'].value_counts()"
   ]
  },
  {
   "cell_type": "code",
   "execution_count": 38,
   "id": "6d14f6d2",
   "metadata": {},
   "outputs": [
    {
     "data": {
      "text/plain": [
       "Unspecified    300697\n",
       "Name: School Zip, dtype: int64"
      ]
     },
     "execution_count": 38,
     "metadata": {},
     "output_type": "execute_result"
    }
   ],
   "source": [
    "data['School Zip'].value_counts()"
   ]
  },
  {
   "cell_type": "code",
   "execution_count": 39,
   "id": "aaeb3cc1",
   "metadata": {},
   "outputs": [
    {
     "data": {
      "text/plain": [
       "N    300698\n",
       "Name: School Not Found, dtype: int64"
      ]
     },
     "execution_count": 39,
     "metadata": {},
     "output_type": "execute_result"
    }
   ],
   "source": [
    "data['School Not Found'].value_counts()"
   ]
  },
  {
   "cell_type": "code",
   "execution_count": 40,
   "id": "50123bd9",
   "metadata": {},
   "outputs": [
    {
     "data": {
      "text/plain": [
       "Series([], Name: School or Citywide Complaint, dtype: int64)"
      ]
     },
     "execution_count": 40,
     "metadata": {},
     "output_type": "execute_result"
    }
   ],
   "source": [
    "data['School or Citywide Complaint'].value_counts()"
   ]
  },
  {
   "cell_type": "code",
   "execution_count": 41,
   "id": "dbb4a44b",
   "metadata": {},
   "outputs": [
    {
     "data": {
      "text/plain": [
       "Index(['Unique Key', 'Created Date', 'Closed Date', 'Agency', 'Agency Name',\n",
       "       'Complaint Type', 'Descriptor', 'Location Type', 'Incident Zip',\n",
       "       'Incident Address', 'Street Name', 'Cross Street 1', 'Cross Street 2',\n",
       "       'Intersection Street 1', 'Intersection Street 2', 'Address Type',\n",
       "       'City', 'Landmark', 'Facility Type', 'Status', 'Due Date',\n",
       "       'Resolution Description', 'Resolution Action Updated Date',\n",
       "       'Community Board', 'Borough', 'X Coordinate (State Plane)',\n",
       "       'Y Coordinate (State Plane)', 'Park Facility Name', 'Park Borough',\n",
       "       'School Name', 'School Number', 'School Region', 'School Code',\n",
       "       'School Phone Number', 'School Address', 'School City', 'School State',\n",
       "       'School Zip', 'School Not Found', 'School or Citywide Complaint',\n",
       "       'Vehicle Type', 'Taxi Company Borough', 'Taxi Pick Up Location',\n",
       "       'Bridge Highway Name', 'Bridge Highway Direction', 'Road Ramp',\n",
       "       'Bridge Highway Segment', 'Garage Lot Name', 'Ferry Direction',\n",
       "       'Ferry Terminal Name', 'Latitude', 'Longitude', 'Location'],\n",
       "      dtype='object')"
      ]
     },
     "execution_count": 41,
     "metadata": {},
     "output_type": "execute_result"
    }
   ],
   "source": [
    "data.columns"
   ]
  },
  {
   "cell_type": "code",
   "execution_count": 42,
   "id": "e8a791bc",
   "metadata": {},
   "outputs": [],
   "source": [
    "data_mod = data_mod.drop(columns=['School Name', 'School Number', 'School Region', 'School Code',\n",
    "                              'School Phone Number', 'School Address', 'School City', 'School State',\n",
    "                                 'School Zip', 'School Not Found', 'School or Citywide Complaint'],axis=1)"
   ]
  },
  {
   "cell_type": "code",
   "execution_count": 43,
   "id": "c94ce85a",
   "metadata": {},
   "outputs": [
    {
     "data": {
      "text/plain": [
       "Index(['Created Date', 'Closed Date', 'Agency Name', 'Complaint Type',\n",
       "       'Descriptor', 'Location Type', 'Incident Zip', 'Incident Address',\n",
       "       'Street Name', 'Cross Street 1', 'Cross Street 2',\n",
       "       'Intersection Street 1', 'Intersection Street 2', 'Address Type',\n",
       "       'City', 'Landmark', 'Facility Type', 'Status', 'Due Date',\n",
       "       'Resolution Description', 'Resolution Action Updated Date',\n",
       "       'Community Board', 'Borough', 'X Coordinate (State Plane)',\n",
       "       'Y Coordinate (State Plane)', 'Park Facility Name', 'Park Borough',\n",
       "       'Vehicle Type', 'Taxi Company Borough', 'Taxi Pick Up Location',\n",
       "       'Bridge Highway Name', 'Bridge Highway Direction', 'Road Ramp',\n",
       "       'Bridge Highway Segment', 'Garage Lot Name', 'Ferry Direction',\n",
       "       'Ferry Terminal Name', 'Latitude', 'Longitude', 'Location'],\n",
       "      dtype='object')"
      ]
     },
     "execution_count": 43,
     "metadata": {},
     "output_type": "execute_result"
    }
   ],
   "source": [
    "data_mod.columns"
   ]
  },
  {
   "cell_type": "code",
   "execution_count": 44,
   "id": "79c659a0",
   "metadata": {},
   "outputs": [
    {
     "data": {
      "text/plain": [
       "Series([], Name: Vehicle Type, dtype: int64)"
      ]
     },
     "execution_count": 44,
     "metadata": {},
     "output_type": "execute_result"
    }
   ],
   "source": [
    "data['Vehicle Type'].value_counts()"
   ]
  },
  {
   "cell_type": "code",
   "execution_count": 45,
   "id": "fd5abe7d",
   "metadata": {},
   "outputs": [
    {
     "data": {
      "text/plain": [
       "Series([], Name: Taxi Company Borough, dtype: int64)"
      ]
     },
     "execution_count": 45,
     "metadata": {},
     "output_type": "execute_result"
    }
   ],
   "source": [
    "data['Taxi Company Borough'].value_counts()"
   ]
  },
  {
   "cell_type": "code",
   "execution_count": 46,
   "id": "88aa2037",
   "metadata": {},
   "outputs": [
    {
     "data": {
      "text/plain": [
       "Series([], Name: Taxi Pick Up Location, dtype: int64)"
      ]
     },
     "execution_count": 46,
     "metadata": {},
     "output_type": "execute_result"
    }
   ],
   "source": [
    "data['Taxi Pick Up Location'].value_counts()"
   ]
  },
  {
   "cell_type": "code",
   "execution_count": 47,
   "id": "9f3f137b",
   "metadata": {},
   "outputs": [],
   "source": [
    "data_mod = data_mod.drop(columns=['Vehicle Type','Taxi Company Borough','Taxi Pick Up Location'],axis=1)"
   ]
  },
  {
   "cell_type": "code",
   "execution_count": 48,
   "id": "ca2ccde2",
   "metadata": {},
   "outputs": [
    {
     "data": {
      "text/plain": [
       "Index(['Created Date', 'Closed Date', 'Agency Name', 'Complaint Type',\n",
       "       'Descriptor', 'Location Type', 'Incident Zip', 'Incident Address',\n",
       "       'Street Name', 'Cross Street 1', 'Cross Street 2',\n",
       "       'Intersection Street 1', 'Intersection Street 2', 'Address Type',\n",
       "       'City', 'Landmark', 'Facility Type', 'Status', 'Due Date',\n",
       "       'Resolution Description', 'Resolution Action Updated Date',\n",
       "       'Community Board', 'Borough', 'X Coordinate (State Plane)',\n",
       "       'Y Coordinate (State Plane)', 'Park Facility Name', 'Park Borough',\n",
       "       'Bridge Highway Name', 'Bridge Highway Direction', 'Road Ramp',\n",
       "       'Bridge Highway Segment', 'Garage Lot Name', 'Ferry Direction',\n",
       "       'Ferry Terminal Name', 'Latitude', 'Longitude', 'Location'],\n",
       "      dtype='object')"
      ]
     },
     "execution_count": 48,
     "metadata": {},
     "output_type": "execute_result"
    }
   ],
   "source": [
    "data_mod.columns"
   ]
  },
  {
   "cell_type": "code",
   "execution_count": 49,
   "id": "34cbd560",
   "metadata": {},
   "outputs": [
    {
     "data": {
      "text/plain": [
       "FDR Dr                 33\n",
       "Belt Pkwy              30\n",
       "BQE/Gowanus Expwy      27\n",
       "Staten Island Expwy    21\n",
       "Cross Bronx Expwy      19\n",
       "Name: Bridge Highway Name, dtype: int64"
      ]
     },
     "execution_count": 49,
     "metadata": {},
     "output_type": "execute_result"
    }
   ],
   "source": [
    "data['Bridge Highway Name'].value_counts().head(5)"
   ]
  },
  {
   "cell_type": "code",
   "execution_count": 50,
   "id": "cd2a46f3",
   "metadata": {},
   "outputs": [
    {
     "data": {
      "text/plain": [
       "East/Queens Bound           21\n",
       "Northbound/Uptown           20\n",
       "North/Bronx Bound           20\n",
       "West/Staten Island Bound    18\n",
       "Name: Bridge Highway Direction, dtype: int64"
      ]
     },
     "execution_count": 50,
     "metadata": {},
     "output_type": "execute_result"
    }
   ],
   "source": [
    "data['Bridge Highway Direction'].value_counts().head(4)"
   ]
  },
  {
   "cell_type": "code",
   "execution_count": 51,
   "id": "54a22b2a",
   "metadata": {},
   "outputs": [
    {
     "data": {
      "text/plain": [
       "Roadway    162\n",
       "Ramp        51\n",
       "Name: Road Ramp, dtype: int64"
      ]
     },
     "execution_count": 51,
     "metadata": {},
     "output_type": "execute_result"
    }
   ],
   "source": [
    "data['Road Ramp'].value_counts()"
   ]
  },
  {
   "cell_type": "code",
   "execution_count": 52,
   "id": "39a8183f",
   "metadata": {},
   "outputs": [
    {
     "data": {
      "text/plain": [
       "East 96th St (Exit 14) - Triborough Br (Exit 17)                              6\n",
       "Bronx River Pkwy (Exit 4B) - Westchester Ave / White Plains Road (Exit 5A)    5\n",
       "Westchester Ave / White Plains Road (Exit 5A) - Castle Hill Ave (Exit 5B)     3\n",
       "Richmond Ave (Exit 7) - Victory Blvd (Exit 8)                                 3\n",
       "BEGIN Staten Island Expwy (Exit 15N) - Lily Pond Ave/Bay St (Exit 15S)        3\n",
       "East 177th St/Sheridan Expwy (I-895) (Exit 5)                                 3\n",
       "Name: Bridge Highway Segment, dtype: int64"
      ]
     },
     "execution_count": 52,
     "metadata": {},
     "output_type": "execute_result"
    }
   ],
   "source": [
    "data['Bridge Highway Segment'].value_counts().head(6)"
   ]
  },
  {
   "cell_type": "code",
   "execution_count": 53,
   "id": "5fbd6464",
   "metadata": {},
   "outputs": [
    {
     "data": {
      "text/plain": [
       "Series([], Name: Garage Lot Name, dtype: int64)"
      ]
     },
     "execution_count": 53,
     "metadata": {},
     "output_type": "execute_result"
    }
   ],
   "source": [
    "data['Garage Lot Name'].value_counts()"
   ]
  },
  {
   "cell_type": "code",
   "execution_count": 54,
   "id": "f67c0e7c",
   "metadata": {},
   "outputs": [
    {
     "data": {
      "text/plain": [
       "Manhattan Bound    1\n",
       "Name: Ferry Direction, dtype: int64"
      ]
     },
     "execution_count": 54,
     "metadata": {},
     "output_type": "execute_result"
    }
   ],
   "source": [
    "data['Ferry Direction'].value_counts()"
   ]
  },
  {
   "cell_type": "code",
   "execution_count": 55,
   "id": "2d88ef93",
   "metadata": {},
   "outputs": [
    {
     "data": {
      "text/plain": [
       "St. George Terminal (Staten Island)    1\n",
       "Barberi                                1\n",
       "Name: Ferry Terminal Name, dtype: int64"
      ]
     },
     "execution_count": 55,
     "metadata": {},
     "output_type": "execute_result"
    }
   ],
   "source": [
    "data['Ferry Terminal Name'].value_counts()"
   ]
  },
  {
   "cell_type": "code",
   "execution_count": 56,
   "id": "deccb0c6",
   "metadata": {},
   "outputs": [],
   "source": [
    "data_mod = data_mod.drop(columns=['Garage Lot Name','Ferry Direction','Ferry Terminal Name'],axis=1)"
   ]
  },
  {
   "cell_type": "code",
   "execution_count": 57,
   "id": "3a112139",
   "metadata": {},
   "outputs": [
    {
     "data": {
      "text/plain": [
       "Index(['Created Date', 'Closed Date', 'Agency Name', 'Complaint Type',\n",
       "       'Descriptor', 'Location Type', 'Incident Zip', 'Incident Address',\n",
       "       'Street Name', 'Cross Street 1', 'Cross Street 2',\n",
       "       'Intersection Street 1', 'Intersection Street 2', 'Address Type',\n",
       "       'City', 'Landmark', 'Facility Type', 'Status', 'Due Date',\n",
       "       'Resolution Description', 'Resolution Action Updated Date',\n",
       "       'Community Board', 'Borough', 'X Coordinate (State Plane)',\n",
       "       'Y Coordinate (State Plane)', 'Park Facility Name', 'Park Borough',\n",
       "       'Bridge Highway Name', 'Bridge Highway Direction', 'Road Ramp',\n",
       "       'Bridge Highway Segment', 'Latitude', 'Longitude', 'Location'],\n",
       "      dtype='object')"
      ]
     },
     "execution_count": 57,
     "metadata": {},
     "output_type": "execute_result"
    }
   ],
   "source": [
    "data_mod.columns"
   ]
  },
  {
   "cell_type": "code",
   "execution_count": 58,
   "id": "be73bd77",
   "metadata": {},
   "outputs": [
    {
     "data": {
      "text/plain": [
       "40.830362    902\n",
       "40.721959    505\n",
       "40.703819    480\n",
       "40.647132    362\n",
       "40.708726    341\n",
       "Name: Latitude, dtype: int64"
      ]
     },
     "execution_count": 58,
     "metadata": {},
     "output_type": "execute_result"
    }
   ],
   "source": [
    "data['Latitude'].value_counts().head(5)"
   ]
  },
  {
   "cell_type": "code",
   "execution_count": 59,
   "id": "82c10ed4",
   "metadata": {},
   "outputs": [
    {
     "data": {
      "text/plain": [
       "-73.866022    902\n",
       "-73.809697    505\n",
       "-73.942073    480\n",
       "-73.790654    341\n",
       "-74.004623    340\n",
       "Name: Longitude, dtype: int64"
      ]
     },
     "execution_count": 59,
     "metadata": {},
     "output_type": "execute_result"
    }
   ],
   "source": [
    "data['Longitude'].value_counts().head(5)"
   ]
  },
  {
   "cell_type": "code",
   "execution_count": 60,
   "id": "a9dd5097",
   "metadata": {},
   "outputs": [
    {
     "data": {
      "text/plain": [
       "(40.83036235589997, -73.86602154214397)     902\n",
       "(40.72195913199264, -73.80969682426189)     505\n",
       "(40.703818970933284, -73.94207345177706)    476\n",
       "(40.708726489323325, -73.7906539235748)     341\n",
       "Name: Location, dtype: int64"
      ]
     },
     "execution_count": 60,
     "metadata": {},
     "output_type": "execute_result"
    }
   ],
   "source": [
    "data['Location'].value_counts().head(4)"
   ]
  },
  {
   "cell_type": "code",
   "execution_count": 61,
   "id": "ebfbfefb",
   "metadata": {},
   "outputs": [
    {
     "data": {
      "text/html": [
       "<div>\n",
       "<style scoped>\n",
       "    .dataframe tbody tr th:only-of-type {\n",
       "        vertical-align: middle;\n",
       "    }\n",
       "\n",
       "    .dataframe tbody tr th {\n",
       "        vertical-align: top;\n",
       "    }\n",
       "\n",
       "    .dataframe thead th {\n",
       "        text-align: right;\n",
       "    }\n",
       "</style>\n",
       "<table border=\"1\" class=\"dataframe\">\n",
       "  <thead>\n",
       "    <tr style=\"text-align: right;\">\n",
       "      <th></th>\n",
       "      <th>Created Date</th>\n",
       "      <th>Closed Date</th>\n",
       "      <th>Agency Name</th>\n",
       "      <th>Complaint Type</th>\n",
       "      <th>Descriptor</th>\n",
       "      <th>Location Type</th>\n",
       "      <th>Incident Zip</th>\n",
       "      <th>Incident Address</th>\n",
       "      <th>Street Name</th>\n",
       "      <th>Cross Street 1</th>\n",
       "      <th>Cross Street 2</th>\n",
       "      <th>Intersection Street 1</th>\n",
       "      <th>Intersection Street 2</th>\n",
       "      <th>Address Type</th>\n",
       "      <th>City</th>\n",
       "      <th>Landmark</th>\n",
       "      <th>Facility Type</th>\n",
       "      <th>Status</th>\n",
       "      <th>Due Date</th>\n",
       "      <th>Resolution Description</th>\n",
       "      <th>Resolution Action Updated Date</th>\n",
       "      <th>Community Board</th>\n",
       "      <th>Borough</th>\n",
       "      <th>X Coordinate (State Plane)</th>\n",
       "      <th>Y Coordinate (State Plane)</th>\n",
       "      <th>Park Facility Name</th>\n",
       "      <th>Park Borough</th>\n",
       "      <th>Bridge Highway Name</th>\n",
       "      <th>Bridge Highway Direction</th>\n",
       "      <th>Road Ramp</th>\n",
       "      <th>Bridge Highway Segment</th>\n",
       "      <th>Latitude</th>\n",
       "      <th>Longitude</th>\n",
       "      <th>Location</th>\n",
       "    </tr>\n",
       "  </thead>\n",
       "  <tbody>\n",
       "    <tr>\n",
       "      <th>6855</th>\n",
       "      <td>12/24/2015 12:51:50 AM</td>\n",
       "      <td>12/24/2015 05:45:03 AM</td>\n",
       "      <td>New York City Police Department</td>\n",
       "      <td>Animal Abuse</td>\n",
       "      <td>Neglected</td>\n",
       "      <td>Residential Building/House</td>\n",
       "      <td>10016.0</td>\n",
       "      <td>150 LEXINGTON AVENUE</td>\n",
       "      <td>LEXINGTON AVENUE</td>\n",
       "      <td>EAST 29 STREET</td>\n",
       "      <td>EAST 30 STREET</td>\n",
       "      <td>NaN</td>\n",
       "      <td>NaN</td>\n",
       "      <td>ADDRESS</td>\n",
       "      <td>NEW YORK</td>\n",
       "      <td>NaN</td>\n",
       "      <td>Precinct</td>\n",
       "      <td>Closed</td>\n",
       "      <td>12/24/2015 08:51:50 AM</td>\n",
       "      <td>The Police Department responded to the complai...</td>\n",
       "      <td>12/24/2015 05:45:04 AM</td>\n",
       "      <td>05 MANHATTAN</td>\n",
       "      <td>MANHATTAN</td>\n",
       "      <td>989300.0</td>\n",
       "      <td>210191.0</td>\n",
       "      <td>Unspecified</td>\n",
       "      <td>MANHATTAN</td>\n",
       "      <td>NaN</td>\n",
       "      <td>NaN</td>\n",
       "      <td>NaN</td>\n",
       "      <td>NaN</td>\n",
       "      <td>40.743601</td>\n",
       "      <td>-73.981775</td>\n",
       "      <td>(40.743600899071154, -73.98177549829451)</td>\n",
       "    </tr>\n",
       "    <tr>\n",
       "      <th>257282</th>\n",
       "      <td>05-12-15 9:11</td>\n",
       "      <td>05-12-15 22:00</td>\n",
       "      <td>New York City Police Department</td>\n",
       "      <td>Illegal Parking</td>\n",
       "      <td>Double Parked Blocking Traffic</td>\n",
       "      <td>Street/Sidewalk</td>\n",
       "      <td>11377.0</td>\n",
       "      <td>NaN</td>\n",
       "      <td>NaN</td>\n",
       "      <td>NaN</td>\n",
       "      <td>NaN</td>\n",
       "      <td>TYLER AVENUE</td>\n",
       "      <td>61 STREET</td>\n",
       "      <td>INTERSECTION</td>\n",
       "      <td>WOODSIDE</td>\n",
       "      <td>NaN</td>\n",
       "      <td>Precinct</td>\n",
       "      <td>Closed</td>\n",
       "      <td>05-12-15 17:11</td>\n",
       "      <td>The Police Department responded to the complai...</td>\n",
       "      <td>05-12-15 22:00</td>\n",
       "      <td>02 QUEENS</td>\n",
       "      <td>QUEENS</td>\n",
       "      <td>1010914.0</td>\n",
       "      <td>207151.0</td>\n",
       "      <td>Unspecified</td>\n",
       "      <td>QUEENS</td>\n",
       "      <td>NaN</td>\n",
       "      <td>NaN</td>\n",
       "      <td>NaN</td>\n",
       "      <td>NaN</td>\n",
       "      <td>40.735218</td>\n",
       "      <td>-73.903787</td>\n",
       "      <td>(40.735218103156555, -73.90378671817655)</td>\n",
       "    </tr>\n",
       "    <tr>\n",
       "      <th>270240</th>\n",
       "      <td>05-01-15 18:38</td>\n",
       "      <td>05-01-15 22:47</td>\n",
       "      <td>New York City Police Department</td>\n",
       "      <td>Blocked Driveway</td>\n",
       "      <td>No Access</td>\n",
       "      <td>Street/Sidewalk</td>\n",
       "      <td>10305.0</td>\n",
       "      <td>48 ANDREWS STREET</td>\n",
       "      <td>ANDREWS STREET</td>\n",
       "      <td>OLYMPIA BOULEVARD</td>\n",
       "      <td>QUINCY AVENUE</td>\n",
       "      <td>NaN</td>\n",
       "      <td>NaN</td>\n",
       "      <td>ADDRESS</td>\n",
       "      <td>STATEN ISLAND</td>\n",
       "      <td>NaN</td>\n",
       "      <td>Precinct</td>\n",
       "      <td>Closed</td>\n",
       "      <td>05-02-15 2:38</td>\n",
       "      <td>The Police Department issued a summons in resp...</td>\n",
       "      <td>05-01-15 22:47</td>\n",
       "      <td>02 STATEN ISLAND</td>\n",
       "      <td>STATEN ISLAND</td>\n",
       "      <td>964135.0</td>\n",
       "      <td>154577.0</td>\n",
       "      <td>Unspecified</td>\n",
       "      <td>STATEN ISLAND</td>\n",
       "      <td>NaN</td>\n",
       "      <td>NaN</td>\n",
       "      <td>NaN</td>\n",
       "      <td>NaN</td>\n",
       "      <td>40.590932</td>\n",
       "      <td>-74.072425</td>\n",
       "      <td>(40.59093151089116, -74.07242530332658)</td>\n",
       "    </tr>\n",
       "    <tr>\n",
       "      <th>221220</th>\n",
       "      <td>06-12-15 15:32</td>\n",
       "      <td>06-12-15 18:58</td>\n",
       "      <td>New York City Police Department</td>\n",
       "      <td>Noise - Street/Sidewalk</td>\n",
       "      <td>Loud Talking</td>\n",
       "      <td>Street/Sidewalk</td>\n",
       "      <td>10031.0</td>\n",
       "      <td>612 WEST 135 STREET</td>\n",
       "      <td>WEST 135 STREET</td>\n",
       "      <td>BROADWAY</td>\n",
       "      <td>RIVERSIDE DRIVE</td>\n",
       "      <td>NaN</td>\n",
       "      <td>NaN</td>\n",
       "      <td>ADDRESS</td>\n",
       "      <td>NEW YORK</td>\n",
       "      <td>NaN</td>\n",
       "      <td>Precinct</td>\n",
       "      <td>Closed</td>\n",
       "      <td>06-12-15 23:32</td>\n",
       "      <td>The Police Department responded to the complai...</td>\n",
       "      <td>06-12-15 18:58</td>\n",
       "      <td>09 MANHATTAN</td>\n",
       "      <td>MANHATTAN</td>\n",
       "      <td>996391.0</td>\n",
       "      <td>238225.0</td>\n",
       "      <td>Unspecified</td>\n",
       "      <td>MANHATTAN</td>\n",
       "      <td>NaN</td>\n",
       "      <td>NaN</td>\n",
       "      <td>NaN</td>\n",
       "      <td>NaN</td>\n",
       "      <td>40.820540</td>\n",
       "      <td>-73.956135</td>\n",
       "      <td>(40.8205398819029, -73.9561347522021)</td>\n",
       "    </tr>\n",
       "    <tr>\n",
       "      <th>39185</th>\n",
       "      <td>11/21/2015 08:28:50 PM</td>\n",
       "      <td>11/21/2015 09:45:50 PM</td>\n",
       "      <td>New York City Police Department</td>\n",
       "      <td>Noise - Commercial</td>\n",
       "      <td>Loud Music/Party</td>\n",
       "      <td>Club/Bar/Restaurant</td>\n",
       "      <td>10036.0</td>\n",
       "      <td>251 WEST 48 STREET</td>\n",
       "      <td>WEST 48 STREET</td>\n",
       "      <td>BROADWAY</td>\n",
       "      <td>8 AVENUE</td>\n",
       "      <td>NaN</td>\n",
       "      <td>NaN</td>\n",
       "      <td>ADDRESS</td>\n",
       "      <td>NEW YORK</td>\n",
       "      <td>NaN</td>\n",
       "      <td>Precinct</td>\n",
       "      <td>Closed</td>\n",
       "      <td>11/22/2015 04:28:50 AM</td>\n",
       "      <td>The Police Department responded to the complai...</td>\n",
       "      <td>11/21/2015 09:45:50 PM</td>\n",
       "      <td>05 MANHATTAN</td>\n",
       "      <td>MANHATTAN</td>\n",
       "      <td>988150.0</td>\n",
       "      <td>216378.0</td>\n",
       "      <td>Unspecified</td>\n",
       "      <td>MANHATTAN</td>\n",
       "      <td>NaN</td>\n",
       "      <td>NaN</td>\n",
       "      <td>NaN</td>\n",
       "      <td>NaN</td>\n",
       "      <td>40.760583</td>\n",
       "      <td>-73.985922</td>\n",
       "      <td>(40.76058322950115, -73.98592204392392)</td>\n",
       "    </tr>\n",
       "    <tr>\n",
       "      <th>224101</th>\n",
       "      <td>06-10-15 5:32</td>\n",
       "      <td>06-10-15 23:23</td>\n",
       "      <td>New York City Police Department</td>\n",
       "      <td>Blocked Driveway</td>\n",
       "      <td>No Access</td>\n",
       "      <td>Street/Sidewalk</td>\n",
       "      <td>10457.0</td>\n",
       "      <td>1733 WEEKS AVENUE</td>\n",
       "      <td>WEEKS AVENUE</td>\n",
       "      <td>CROSS BRONX EXPRESSWAY</td>\n",
       "      <td>EAST 175 STREET</td>\n",
       "      <td>NaN</td>\n",
       "      <td>NaN</td>\n",
       "      <td>ADDRESS</td>\n",
       "      <td>BRONX</td>\n",
       "      <td>NaN</td>\n",
       "      <td>Precinct</td>\n",
       "      <td>Closed</td>\n",
       "      <td>06-10-15 13:32</td>\n",
       "      <td>The Police Department responded to the complai...</td>\n",
       "      <td>06-10-15 23:23</td>\n",
       "      <td>05 BRONX</td>\n",
       "      <td>BRONX</td>\n",
       "      <td>1009846.0</td>\n",
       "      <td>247431.0</td>\n",
       "      <td>Unspecified</td>\n",
       "      <td>BRONX</td>\n",
       "      <td>NaN</td>\n",
       "      <td>NaN</td>\n",
       "      <td>NaN</td>\n",
       "      <td>NaN</td>\n",
       "      <td>40.845779</td>\n",
       "      <td>-73.907487</td>\n",
       "      <td>(40.8457789462491, -73.90748694139435)</td>\n",
       "    </tr>\n",
       "    <tr>\n",
       "      <th>186617</th>\n",
       "      <td>07-12-15 1:38</td>\n",
       "      <td>07-12-15 3:11</td>\n",
       "      <td>New York City Police Department</td>\n",
       "      <td>Noise - Street/Sidewalk</td>\n",
       "      <td>Loud Music/Party</td>\n",
       "      <td>Street/Sidewalk</td>\n",
       "      <td>10032.0</td>\n",
       "      <td>565 WEST 173 STREET</td>\n",
       "      <td>WEST 173 STREET</td>\n",
       "      <td>AUDUBON AVENUE</td>\n",
       "      <td>ST NICHOLAS AVENUE</td>\n",
       "      <td>NaN</td>\n",
       "      <td>NaN</td>\n",
       "      <td>ADDRESS</td>\n",
       "      <td>NEW YORK</td>\n",
       "      <td>NaN</td>\n",
       "      <td>Precinct</td>\n",
       "      <td>Closed</td>\n",
       "      <td>07-12-15 9:38</td>\n",
       "      <td>The Police Department responded to the complai...</td>\n",
       "      <td>07-12-15 3:11</td>\n",
       "      <td>12 MANHATTAN</td>\n",
       "      <td>MANHATTAN</td>\n",
       "      <td>1001767.0</td>\n",
       "      <td>246702.0</td>\n",
       "      <td>Unspecified</td>\n",
       "      <td>MANHATTAN</td>\n",
       "      <td>NaN</td>\n",
       "      <td>NaN</td>\n",
       "      <td>NaN</td>\n",
       "      <td>NaN</td>\n",
       "      <td>40.843798</td>\n",
       "      <td>-73.936689</td>\n",
       "      <td>(40.84379777863022, -73.93668921611638)</td>\n",
       "    </tr>\n",
       "    <tr>\n",
       "      <th>253278</th>\n",
       "      <td>05/15/2015 11:40:52 PM</td>\n",
       "      <td>05/16/2015 02:23:43 AM</td>\n",
       "      <td>New York City Police Department</td>\n",
       "      <td>Homeless Encampment</td>\n",
       "      <td>NaN</td>\n",
       "      <td>Residential Building/House</td>\n",
       "      <td>10012.0</td>\n",
       "      <td>22 BOND STREET</td>\n",
       "      <td>BOND STREET</td>\n",
       "      <td>LAFAYETTE STREET</td>\n",
       "      <td>BOWERY</td>\n",
       "      <td>NaN</td>\n",
       "      <td>NaN</td>\n",
       "      <td>ADDRESS</td>\n",
       "      <td>NEW YORK</td>\n",
       "      <td>NaN</td>\n",
       "      <td>Precinct</td>\n",
       "      <td>Closed</td>\n",
       "      <td>05/16/2015 07:40:52 AM</td>\n",
       "      <td>The Police Department responded to the complai...</td>\n",
       "      <td>05/16/2015 02:23:43 AM</td>\n",
       "      <td>02 MANHATTAN</td>\n",
       "      <td>MANHATTAN</td>\n",
       "      <td>985997.0</td>\n",
       "      <td>203939.0</td>\n",
       "      <td>Unspecified</td>\n",
       "      <td>MANHATTAN</td>\n",
       "      <td>NaN</td>\n",
       "      <td>NaN</td>\n",
       "      <td>NaN</td>\n",
       "      <td>NaN</td>\n",
       "      <td>40.726442</td>\n",
       "      <td>-73.993697</td>\n",
       "      <td>(40.72644196971636, -73.99369702842091)</td>\n",
       "    </tr>\n",
       "    <tr>\n",
       "      <th>89462</th>\n",
       "      <td>10-05-15 17:19</td>\n",
       "      <td>10-05-15 23:33</td>\n",
       "      <td>New York City Police Department</td>\n",
       "      <td>Illegal Parking</td>\n",
       "      <td>Double Parked Blocking Traffic</td>\n",
       "      <td>Street/Sidewalk</td>\n",
       "      <td>11232.0</td>\n",
       "      <td>946 1/2 4 AVENUE</td>\n",
       "      <td>4 AVENUE</td>\n",
       "      <td>35 STREET</td>\n",
       "      <td>36 STREET</td>\n",
       "      <td>NaN</td>\n",
       "      <td>NaN</td>\n",
       "      <td>ADDRESS</td>\n",
       "      <td>BROOKLYN</td>\n",
       "      <td>NaN</td>\n",
       "      <td>Precinct</td>\n",
       "      <td>Closed</td>\n",
       "      <td>10-06-15 1:19</td>\n",
       "      <td>The Police Department responded to the complai...</td>\n",
       "      <td>10-05-15 23:33</td>\n",
       "      <td>07 BROOKLYN</td>\n",
       "      <td>BROOKLYN</td>\n",
       "      <td>983077.0</td>\n",
       "      <td>177731.0</td>\n",
       "      <td>Unspecified</td>\n",
       "      <td>BROOKLYN</td>\n",
       "      <td>NaN</td>\n",
       "      <td>NaN</td>\n",
       "      <td>NaN</td>\n",
       "      <td>NaN</td>\n",
       "      <td>40.654507</td>\n",
       "      <td>-74.004227</td>\n",
       "      <td>(40.65450714639692, -74.00422748346041)</td>\n",
       "    </tr>\n",
       "    <tr>\n",
       "      <th>253482</th>\n",
       "      <td>05/15/2015 09:49:47 PM</td>\n",
       "      <td>05/15/2015 11:25:01 PM</td>\n",
       "      <td>New York City Police Department</td>\n",
       "      <td>Blocked Driveway</td>\n",
       "      <td>No Access</td>\n",
       "      <td>Street/Sidewalk</td>\n",
       "      <td>11421.0</td>\n",
       "      <td>91-33 97 STREET</td>\n",
       "      <td>97 STREET</td>\n",
       "      <td>91 ROAD</td>\n",
       "      <td>91 DRIVE</td>\n",
       "      <td>NaN</td>\n",
       "      <td>NaN</td>\n",
       "      <td>ADDRESS</td>\n",
       "      <td>WOODHAVEN</td>\n",
       "      <td>NaN</td>\n",
       "      <td>Precinct</td>\n",
       "      <td>Closed</td>\n",
       "      <td>05/16/2015 05:49:47 AM</td>\n",
       "      <td>The Police Department responded to the complai...</td>\n",
       "      <td>05/15/2015 11:25:01 PM</td>\n",
       "      <td>09 QUEENS</td>\n",
       "      <td>QUEENS</td>\n",
       "      <td>1026839.0</td>\n",
       "      <td>190733.0</td>\n",
       "      <td>Unspecified</td>\n",
       "      <td>QUEENS</td>\n",
       "      <td>NaN</td>\n",
       "      <td>NaN</td>\n",
       "      <td>NaN</td>\n",
       "      <td>NaN</td>\n",
       "      <td>40.690092</td>\n",
       "      <td>-73.846428</td>\n",
       "      <td>(40.690092327843345, -73.84642755940943)</td>\n",
       "    </tr>\n",
       "  </tbody>\n",
       "</table>\n",
       "</div>"
      ],
      "text/plain": [
       "                  Created Date             Closed Date  \\\n",
       "6855    12/24/2015 12:51:50 AM  12/24/2015 05:45:03 AM   \n",
       "257282           05-12-15 9:11          05-12-15 22:00   \n",
       "270240          05-01-15 18:38          05-01-15 22:47   \n",
       "221220          06-12-15 15:32          06-12-15 18:58   \n",
       "39185   11/21/2015 08:28:50 PM  11/21/2015 09:45:50 PM   \n",
       "224101           06-10-15 5:32          06-10-15 23:23   \n",
       "186617           07-12-15 1:38           07-12-15 3:11   \n",
       "253278  05/15/2015 11:40:52 PM  05/16/2015 02:23:43 AM   \n",
       "89462           10-05-15 17:19          10-05-15 23:33   \n",
       "253482  05/15/2015 09:49:47 PM  05/15/2015 11:25:01 PM   \n",
       "\n",
       "                            Agency Name           Complaint Type  \\\n",
       "6855    New York City Police Department             Animal Abuse   \n",
       "257282  New York City Police Department          Illegal Parking   \n",
       "270240  New York City Police Department         Blocked Driveway   \n",
       "221220  New York City Police Department  Noise - Street/Sidewalk   \n",
       "39185   New York City Police Department       Noise - Commercial   \n",
       "224101  New York City Police Department         Blocked Driveway   \n",
       "186617  New York City Police Department  Noise - Street/Sidewalk   \n",
       "253278  New York City Police Department      Homeless Encampment   \n",
       "89462   New York City Police Department          Illegal Parking   \n",
       "253482  New York City Police Department         Blocked Driveway   \n",
       "\n",
       "                            Descriptor               Location Type  \\\n",
       "6855                         Neglected  Residential Building/House   \n",
       "257282  Double Parked Blocking Traffic             Street/Sidewalk   \n",
       "270240                       No Access             Street/Sidewalk   \n",
       "221220                    Loud Talking             Street/Sidewalk   \n",
       "39185                 Loud Music/Party         Club/Bar/Restaurant   \n",
       "224101                       No Access             Street/Sidewalk   \n",
       "186617                Loud Music/Party             Street/Sidewalk   \n",
       "253278                             NaN  Residential Building/House   \n",
       "89462   Double Parked Blocking Traffic             Street/Sidewalk   \n",
       "253482                       No Access             Street/Sidewalk   \n",
       "\n",
       "        Incident Zip      Incident Address       Street Name  \\\n",
       "6855         10016.0  150 LEXINGTON AVENUE  LEXINGTON AVENUE   \n",
       "257282       11377.0                   NaN               NaN   \n",
       "270240       10305.0     48 ANDREWS STREET    ANDREWS STREET   \n",
       "221220       10031.0   612 WEST 135 STREET   WEST 135 STREET   \n",
       "39185        10036.0    251 WEST 48 STREET    WEST 48 STREET   \n",
       "224101       10457.0     1733 WEEKS AVENUE      WEEKS AVENUE   \n",
       "186617       10032.0   565 WEST 173 STREET   WEST 173 STREET   \n",
       "253278       10012.0        22 BOND STREET       BOND STREET   \n",
       "89462        11232.0      946 1/2 4 AVENUE          4 AVENUE   \n",
       "253482       11421.0       91-33 97 STREET         97 STREET   \n",
       "\n",
       "                Cross Street 1      Cross Street 2 Intersection Street 1  \\\n",
       "6855            EAST 29 STREET      EAST 30 STREET                   NaN   \n",
       "257282                     NaN                 NaN          TYLER AVENUE   \n",
       "270240       OLYMPIA BOULEVARD       QUINCY AVENUE                   NaN   \n",
       "221220                BROADWAY     RIVERSIDE DRIVE                   NaN   \n",
       "39185                 BROADWAY            8 AVENUE                   NaN   \n",
       "224101  CROSS BRONX EXPRESSWAY     EAST 175 STREET                   NaN   \n",
       "186617          AUDUBON AVENUE  ST NICHOLAS AVENUE                   NaN   \n",
       "253278        LAFAYETTE STREET              BOWERY                   NaN   \n",
       "89462                35 STREET           36 STREET                   NaN   \n",
       "253482                 91 ROAD            91 DRIVE                   NaN   \n",
       "\n",
       "       Intersection Street 2  Address Type           City Landmark  \\\n",
       "6855                     NaN       ADDRESS       NEW YORK      NaN   \n",
       "257282             61 STREET  INTERSECTION       WOODSIDE      NaN   \n",
       "270240                   NaN       ADDRESS  STATEN ISLAND      NaN   \n",
       "221220                   NaN       ADDRESS       NEW YORK      NaN   \n",
       "39185                    NaN       ADDRESS       NEW YORK      NaN   \n",
       "224101                   NaN       ADDRESS          BRONX      NaN   \n",
       "186617                   NaN       ADDRESS       NEW YORK      NaN   \n",
       "253278                   NaN       ADDRESS       NEW YORK      NaN   \n",
       "89462                    NaN       ADDRESS       BROOKLYN      NaN   \n",
       "253482                   NaN       ADDRESS      WOODHAVEN      NaN   \n",
       "\n",
       "       Facility Type  Status                Due Date  \\\n",
       "6855        Precinct  Closed  12/24/2015 08:51:50 AM   \n",
       "257282      Precinct  Closed          05-12-15 17:11   \n",
       "270240      Precinct  Closed           05-02-15 2:38   \n",
       "221220      Precinct  Closed          06-12-15 23:32   \n",
       "39185       Precinct  Closed  11/22/2015 04:28:50 AM   \n",
       "224101      Precinct  Closed          06-10-15 13:32   \n",
       "186617      Precinct  Closed           07-12-15 9:38   \n",
       "253278      Precinct  Closed  05/16/2015 07:40:52 AM   \n",
       "89462       Precinct  Closed           10-06-15 1:19   \n",
       "253482      Precinct  Closed  05/16/2015 05:49:47 AM   \n",
       "\n",
       "                                   Resolution Description  \\\n",
       "6855    The Police Department responded to the complai...   \n",
       "257282  The Police Department responded to the complai...   \n",
       "270240  The Police Department issued a summons in resp...   \n",
       "221220  The Police Department responded to the complai...   \n",
       "39185   The Police Department responded to the complai...   \n",
       "224101  The Police Department responded to the complai...   \n",
       "186617  The Police Department responded to the complai...   \n",
       "253278  The Police Department responded to the complai...   \n",
       "89462   The Police Department responded to the complai...   \n",
       "253482  The Police Department responded to the complai...   \n",
       "\n",
       "       Resolution Action Updated Date   Community Board        Borough  \\\n",
       "6855           12/24/2015 05:45:04 AM      05 MANHATTAN      MANHATTAN   \n",
       "257282                 05-12-15 22:00         02 QUEENS         QUEENS   \n",
       "270240                 05-01-15 22:47  02 STATEN ISLAND  STATEN ISLAND   \n",
       "221220                 06-12-15 18:58      09 MANHATTAN      MANHATTAN   \n",
       "39185          11/21/2015 09:45:50 PM      05 MANHATTAN      MANHATTAN   \n",
       "224101                 06-10-15 23:23          05 BRONX          BRONX   \n",
       "186617                  07-12-15 3:11      12 MANHATTAN      MANHATTAN   \n",
       "253278         05/16/2015 02:23:43 AM      02 MANHATTAN      MANHATTAN   \n",
       "89462                  10-05-15 23:33       07 BROOKLYN       BROOKLYN   \n",
       "253482         05/15/2015 11:25:01 PM         09 QUEENS         QUEENS   \n",
       "\n",
       "        X Coordinate (State Plane)  Y Coordinate (State Plane)  \\\n",
       "6855                      989300.0                    210191.0   \n",
       "257282                   1010914.0                    207151.0   \n",
       "270240                    964135.0                    154577.0   \n",
       "221220                    996391.0                    238225.0   \n",
       "39185                     988150.0                    216378.0   \n",
       "224101                   1009846.0                    247431.0   \n",
       "186617                   1001767.0                    246702.0   \n",
       "253278                    985997.0                    203939.0   \n",
       "89462                     983077.0                    177731.0   \n",
       "253482                   1026839.0                    190733.0   \n",
       "\n",
       "       Park Facility Name   Park Borough Bridge Highway Name  \\\n",
       "6855          Unspecified      MANHATTAN                 NaN   \n",
       "257282        Unspecified         QUEENS                 NaN   \n",
       "270240        Unspecified  STATEN ISLAND                 NaN   \n",
       "221220        Unspecified      MANHATTAN                 NaN   \n",
       "39185         Unspecified      MANHATTAN                 NaN   \n",
       "224101        Unspecified          BRONX                 NaN   \n",
       "186617        Unspecified      MANHATTAN                 NaN   \n",
       "253278        Unspecified      MANHATTAN                 NaN   \n",
       "89462         Unspecified       BROOKLYN                 NaN   \n",
       "253482        Unspecified         QUEENS                 NaN   \n",
       "\n",
       "       Bridge Highway Direction Road Ramp Bridge Highway Segment   Latitude  \\\n",
       "6855                        NaN       NaN                    NaN  40.743601   \n",
       "257282                      NaN       NaN                    NaN  40.735218   \n",
       "270240                      NaN       NaN                    NaN  40.590932   \n",
       "221220                      NaN       NaN                    NaN  40.820540   \n",
       "39185                       NaN       NaN                    NaN  40.760583   \n",
       "224101                      NaN       NaN                    NaN  40.845779   \n",
       "186617                      NaN       NaN                    NaN  40.843798   \n",
       "253278                      NaN       NaN                    NaN  40.726442   \n",
       "89462                       NaN       NaN                    NaN  40.654507   \n",
       "253482                      NaN       NaN                    NaN  40.690092   \n",
       "\n",
       "        Longitude                                  Location  \n",
       "6855   -73.981775  (40.743600899071154, -73.98177549829451)  \n",
       "257282 -73.903787  (40.735218103156555, -73.90378671817655)  \n",
       "270240 -74.072425   (40.59093151089116, -74.07242530332658)  \n",
       "221220 -73.956135     (40.8205398819029, -73.9561347522021)  \n",
       "39185  -73.985922   (40.76058322950115, -73.98592204392392)  \n",
       "224101 -73.907487    (40.8457789462491, -73.90748694139435)  \n",
       "186617 -73.936689   (40.84379777863022, -73.93668921611638)  \n",
       "253278 -73.993697   (40.72644196971636, -73.99369702842091)  \n",
       "89462  -74.004227   (40.65450714639692, -74.00422748346041)  \n",
       "253482 -73.846428  (40.690092327843345, -73.84642755940943)  "
      ]
     },
     "execution_count": 61,
     "metadata": {},
     "output_type": "execute_result"
    }
   ],
   "source": [
    "data_mod.sample(10)"
   ]
  },
  {
   "cell_type": "code",
   "execution_count": 62,
   "id": "73b2bad6",
   "metadata": {},
   "outputs": [
    {
     "data": {
      "text/plain": [
       "Index(['Created Date', 'Closed Date', 'Agency Name', 'Complaint Type',\n",
       "       'Descriptor', 'Location Type', 'Incident Zip', 'Incident Address',\n",
       "       'Street Name', 'Cross Street 1', 'Cross Street 2',\n",
       "       'Intersection Street 1', 'Intersection Street 2', 'Address Type',\n",
       "       'City', 'Landmark', 'Facility Type', 'Status', 'Due Date',\n",
       "       'Resolution Description', 'Resolution Action Updated Date',\n",
       "       'Community Board', 'Borough', 'X Coordinate (State Plane)',\n",
       "       'Y Coordinate (State Plane)', 'Park Facility Name', 'Park Borough',\n",
       "       'Bridge Highway Name', 'Bridge Highway Direction', 'Road Ramp',\n",
       "       'Bridge Highway Segment', 'Latitude', 'Longitude', 'Location'],\n",
       "      dtype='object')"
      ]
     },
     "execution_count": 62,
     "metadata": {},
     "output_type": "execute_result"
    }
   ],
   "source": [
    "data_mod.columns"
   ]
  },
  {
   "cell_type": "code",
   "execution_count": 63,
   "id": "0465b07e",
   "metadata": {},
   "outputs": [
    {
     "name": "stdout",
     "output_type": "stream",
     "text": [
      "<class 'pandas.core.frame.DataFrame'>\n",
      "RangeIndex: 300698 entries, 0 to 300697\n",
      "Data columns (total 34 columns):\n",
      " #   Column                          Non-Null Count   Dtype  \n",
      "---  ------                          --------------   -----  \n",
      " 0   Created Date                    300698 non-null  object \n",
      " 1   Closed Date                     298534 non-null  object \n",
      " 2   Agency Name                     300698 non-null  object \n",
      " 3   Complaint Type                  300698 non-null  object \n",
      " 4   Descriptor                      294784 non-null  object \n",
      " 5   Location Type                   300567 non-null  object \n",
      " 6   Incident Zip                    298083 non-null  float64\n",
      " 7   Incident Address                256288 non-null  object \n",
      " 8   Street Name                     256288 non-null  object \n",
      " 9   Cross Street 1                  251419 non-null  object \n",
      " 10  Cross Street 2                  250919 non-null  object \n",
      " 11  Intersection Street 1           43858 non-null   object \n",
      " 12  Intersection Street 2           43362 non-null   object \n",
      " 13  Address Type                    297883 non-null  object \n",
      " 14  City                            298084 non-null  object \n",
      " 15  Landmark                        349 non-null     object \n",
      " 16  Facility Type                   298527 non-null  object \n",
      " 17  Status                          300698 non-null  object \n",
      " 18  Due Date                        300695 non-null  object \n",
      " 19  Resolution Description          300698 non-null  object \n",
      " 20  Resolution Action Updated Date  298511 non-null  object \n",
      " 21  Community Board                 300698 non-null  object \n",
      " 22  Borough                         300698 non-null  object \n",
      " 23  X Coordinate (State Plane)      297158 non-null  float64\n",
      " 24  Y Coordinate (State Plane)      297158 non-null  float64\n",
      " 25  Park Facility Name              300698 non-null  object \n",
      " 26  Park Borough                    300698 non-null  object \n",
      " 27  Bridge Highway Name             243 non-null     object \n",
      " 28  Bridge Highway Direction        243 non-null     object \n",
      " 29  Road Ramp                       213 non-null     object \n",
      " 30  Bridge Highway Segment          213 non-null     object \n",
      " 31  Latitude                        297158 non-null  float64\n",
      " 32  Longitude                       297158 non-null  float64\n",
      " 33  Location                        297158 non-null  object \n",
      "dtypes: float64(5), object(29)\n",
      "memory usage: 78.0+ MB\n"
     ]
    }
   ],
   "source": [
    "# Final info.(features) after cleaning\n",
    "data_mod.info()"
   ]
  },
  {
   "cell_type": "markdown",
   "id": "80c285de",
   "metadata": {},
   "source": [
    "### 2. Read or convert the columns ‘Created Date’ and Closed Date’ to datetime datatype and create a new column ‘Request_Closing_Time’ as the time elapsed between request creation and request closing"
   ]
  },
  {
   "cell_type": "markdown",
   "id": "96ce7b0d",
   "metadata": {},
   "source": [
    "Now, converting the columns ‘Created Date’ and Closed Date’ to datetime datatype and create a new column ‘Request_Closing_Time’ as the time elapsed between request creation and request closing."
   ]
  },
  {
   "cell_type": "code",
   "execution_count": 64,
   "id": "e071894c",
   "metadata": {},
   "outputs": [],
   "source": [
    "data_mod['Closed Date'] = pd.to_datetime(data_mod['Closed Date'])\n",
    "data_mod['Created Date'] = pd.to_datetime(data_mod['Created Date'])\n",
    "\n",
    "data_mod['Request_Closing_Time'] = data_mod['Closed Date'] - data_mod['Created Date']\n",
    "\n",
    "#data_mod = data_mod[(data_mod.Request_Closing_Time)>=0]"
   ]
  },
  {
   "cell_type": "code",
   "execution_count": 65,
   "id": "b2e34be3",
   "metadata": {},
   "outputs": [
    {
     "name": "stdout",
     "output_type": "stream",
     "text": [
      "<class 'pandas.core.frame.DataFrame'>\n",
      "RangeIndex: 300698 entries, 0 to 300697\n",
      "Data columns (total 35 columns):\n",
      " #   Column                          Non-Null Count   Dtype          \n",
      "---  ------                          --------------   -----          \n",
      " 0   Created Date                    300698 non-null  datetime64[ns] \n",
      " 1   Closed Date                     298534 non-null  datetime64[ns] \n",
      " 2   Agency Name                     300698 non-null  object         \n",
      " 3   Complaint Type                  300698 non-null  object         \n",
      " 4   Descriptor                      294784 non-null  object         \n",
      " 5   Location Type                   300567 non-null  object         \n",
      " 6   Incident Zip                    298083 non-null  float64        \n",
      " 7   Incident Address                256288 non-null  object         \n",
      " 8   Street Name                     256288 non-null  object         \n",
      " 9   Cross Street 1                  251419 non-null  object         \n",
      " 10  Cross Street 2                  250919 non-null  object         \n",
      " 11  Intersection Street 1           43858 non-null   object         \n",
      " 12  Intersection Street 2           43362 non-null   object         \n",
      " 13  Address Type                    297883 non-null  object         \n",
      " 14  City                            298084 non-null  object         \n",
      " 15  Landmark                        349 non-null     object         \n",
      " 16  Facility Type                   298527 non-null  object         \n",
      " 17  Status                          300698 non-null  object         \n",
      " 18  Due Date                        300695 non-null  object         \n",
      " 19  Resolution Description          300698 non-null  object         \n",
      " 20  Resolution Action Updated Date  298511 non-null  object         \n",
      " 21  Community Board                 300698 non-null  object         \n",
      " 22  Borough                         300698 non-null  object         \n",
      " 23  X Coordinate (State Plane)      297158 non-null  float64        \n",
      " 24  Y Coordinate (State Plane)      297158 non-null  float64        \n",
      " 25  Park Facility Name              300698 non-null  object         \n",
      " 26  Park Borough                    300698 non-null  object         \n",
      " 27  Bridge Highway Name             243 non-null     object         \n",
      " 28  Bridge Highway Direction        243 non-null     object         \n",
      " 29  Road Ramp                       213 non-null     object         \n",
      " 30  Bridge Highway Segment          213 non-null     object         \n",
      " 31  Latitude                        297158 non-null  float64        \n",
      " 32  Longitude                       297158 non-null  float64        \n",
      " 33  Location                        297158 non-null  object         \n",
      " 34  Request_Closing_Time            298534 non-null  timedelta64[ns]\n",
      "dtypes: datetime64[ns](2), float64(5), object(27), timedelta64[ns](1)\n",
      "memory usage: 80.3+ MB\n"
     ]
    }
   ],
   "source": [
    "data_mod.info()"
   ]
  },
  {
   "cell_type": "code",
   "execution_count": 66,
   "id": "55e45b3b",
   "metadata": {},
   "outputs": [
    {
     "data": {
      "text/html": [
       "<div>\n",
       "<style scoped>\n",
       "    .dataframe tbody tr th:only-of-type {\n",
       "        vertical-align: middle;\n",
       "    }\n",
       "\n",
       "    .dataframe tbody tr th {\n",
       "        vertical-align: top;\n",
       "    }\n",
       "\n",
       "    .dataframe thead th {\n",
       "        text-align: right;\n",
       "    }\n",
       "</style>\n",
       "<table border=\"1\" class=\"dataframe\">\n",
       "  <thead>\n",
       "    <tr style=\"text-align: right;\">\n",
       "      <th></th>\n",
       "      <th>Created Date</th>\n",
       "      <th>Closed Date</th>\n",
       "      <th>Agency Name</th>\n",
       "      <th>Complaint Type</th>\n",
       "      <th>Descriptor</th>\n",
       "      <th>Location Type</th>\n",
       "      <th>Incident Zip</th>\n",
       "      <th>Incident Address</th>\n",
       "      <th>Street Name</th>\n",
       "      <th>Cross Street 1</th>\n",
       "      <th>Cross Street 2</th>\n",
       "      <th>Intersection Street 1</th>\n",
       "      <th>Intersection Street 2</th>\n",
       "      <th>Address Type</th>\n",
       "      <th>City</th>\n",
       "      <th>Landmark</th>\n",
       "      <th>Facility Type</th>\n",
       "      <th>Status</th>\n",
       "      <th>Due Date</th>\n",
       "      <th>Resolution Description</th>\n",
       "      <th>Resolution Action Updated Date</th>\n",
       "      <th>Community Board</th>\n",
       "      <th>Borough</th>\n",
       "      <th>X Coordinate (State Plane)</th>\n",
       "      <th>Y Coordinate (State Plane)</th>\n",
       "      <th>Park Facility Name</th>\n",
       "      <th>Park Borough</th>\n",
       "      <th>Bridge Highway Name</th>\n",
       "      <th>Bridge Highway Direction</th>\n",
       "      <th>Road Ramp</th>\n",
       "      <th>Bridge Highway Segment</th>\n",
       "      <th>Latitude</th>\n",
       "      <th>Longitude</th>\n",
       "      <th>Location</th>\n",
       "      <th>Request_Closing_Time</th>\n",
       "    </tr>\n",
       "  </thead>\n",
       "  <tbody>\n",
       "    <tr>\n",
       "      <th>45020</th>\n",
       "      <td>2015-11-16 09:34:52</td>\n",
       "      <td>2015-11-16 15:26:48</td>\n",
       "      <td>New York City Police Department</td>\n",
       "      <td>Illegal Parking</td>\n",
       "      <td>Posted Parking Sign Violation</td>\n",
       "      <td>Street/Sidewalk</td>\n",
       "      <td>10011.0</td>\n",
       "      <td>240 WEST 23 STREET</td>\n",
       "      <td>WEST 23 STREET</td>\n",
       "      <td>7 AVENUE</td>\n",
       "      <td>8 AVENUE</td>\n",
       "      <td>NaN</td>\n",
       "      <td>NaN</td>\n",
       "      <td>ADDRESS</td>\n",
       "      <td>NEW YORK</td>\n",
       "      <td>NaN</td>\n",
       "      <td>Precinct</td>\n",
       "      <td>Closed</td>\n",
       "      <td>11/16/2015 05:34:52 PM</td>\n",
       "      <td>The Police Department responded to the complai...</td>\n",
       "      <td>11/16/2015 03:26:49 PM</td>\n",
       "      <td>04 MANHATTAN</td>\n",
       "      <td>MANHATTAN</td>\n",
       "      <td>985112.0</td>\n",
       "      <td>210559.0</td>\n",
       "      <td>Unspecified</td>\n",
       "      <td>MANHATTAN</td>\n",
       "      <td>NaN</td>\n",
       "      <td>NaN</td>\n",
       "      <td>NaN</td>\n",
       "      <td>NaN</td>\n",
       "      <td>40.744612</td>\n",
       "      <td>-73.996889</td>\n",
       "      <td>(40.744612366935755, -73.9968891566609)</td>\n",
       "      <td>0 days 05:51:56</td>\n",
       "    </tr>\n",
       "    <tr>\n",
       "      <th>196986</th>\n",
       "      <td>2015-07-02 23:12:00</td>\n",
       "      <td>2015-07-02 23:55:00</td>\n",
       "      <td>New York City Police Department</td>\n",
       "      <td>Noise - Commercial</td>\n",
       "      <td>Loud Talking</td>\n",
       "      <td>Store/Commercial</td>\n",
       "      <td>10472.0</td>\n",
       "      <td>1207 BEACH AVENUE</td>\n",
       "      <td>BEACH AVENUE</td>\n",
       "      <td>GLEASON AVENUE</td>\n",
       "      <td>WESTCHESTER AVENUE</td>\n",
       "      <td>NaN</td>\n",
       "      <td>NaN</td>\n",
       "      <td>ADDRESS</td>\n",
       "      <td>BRONX</td>\n",
       "      <td>NaN</td>\n",
       "      <td>Precinct</td>\n",
       "      <td>Closed</td>\n",
       "      <td>07-03-15 7:12</td>\n",
       "      <td>The Police Department responded to the complai...</td>\n",
       "      <td>07-02-15 23:55</td>\n",
       "      <td>09 BRONX</td>\n",
       "      <td>BRONX</td>\n",
       "      <td>1021327.0</td>\n",
       "      <td>241829.0</td>\n",
       "      <td>Unspecified</td>\n",
       "      <td>BRONX</td>\n",
       "      <td>NaN</td>\n",
       "      <td>NaN</td>\n",
       "      <td>NaN</td>\n",
       "      <td>NaN</td>\n",
       "      <td>40.830362</td>\n",
       "      <td>-73.866022</td>\n",
       "      <td>(40.83036235589997, -73.86602154214397)</td>\n",
       "      <td>0 days 00:43:00</td>\n",
       "    </tr>\n",
       "    <tr>\n",
       "      <th>232681</th>\n",
       "      <td>2015-06-02 23:09:00</td>\n",
       "      <td>2015-06-03 00:46:00</td>\n",
       "      <td>New York City Police Department</td>\n",
       "      <td>Noise - Commercial</td>\n",
       "      <td>Loud Music/Party</td>\n",
       "      <td>Club/Bar/Restaurant</td>\n",
       "      <td>11222.0</td>\n",
       "      <td>66 GREENPOINT AVENUE</td>\n",
       "      <td>GREENPOINT AVENUE</td>\n",
       "      <td>WEST STREET</td>\n",
       "      <td>FRANKLIN STREET</td>\n",
       "      <td>NaN</td>\n",
       "      <td>NaN</td>\n",
       "      <td>ADDRESS</td>\n",
       "      <td>BROOKLYN</td>\n",
       "      <td>NaN</td>\n",
       "      <td>Precinct</td>\n",
       "      <td>Closed</td>\n",
       "      <td>06-03-15 7:09</td>\n",
       "      <td>The Police Department responded to the complai...</td>\n",
       "      <td>06-03-15 0:46</td>\n",
       "      <td>01 BROOKLYN</td>\n",
       "      <td>BROOKLYN</td>\n",
       "      <td>995784.0</td>\n",
       "      <td>205164.0</td>\n",
       "      <td>Unspecified</td>\n",
       "      <td>BROOKLYN</td>\n",
       "      <td>NaN</td>\n",
       "      <td>NaN</td>\n",
       "      <td>NaN</td>\n",
       "      <td>NaN</td>\n",
       "      <td>40.729797</td>\n",
       "      <td>-73.958385</td>\n",
       "      <td>(40.729796948451764, -73.95838458100494)</td>\n",
       "      <td>0 days 01:37:00</td>\n",
       "    </tr>\n",
       "    <tr>\n",
       "      <th>278330</th>\n",
       "      <td>2015-04-23 08:20:12</td>\n",
       "      <td>2015-04-23 08:59:25</td>\n",
       "      <td>New York City Police Department</td>\n",
       "      <td>Homeless Encampment</td>\n",
       "      <td>NaN</td>\n",
       "      <td>Street/Sidewalk</td>\n",
       "      <td>10003.0</td>\n",
       "      <td>41 COOPER SQUARE</td>\n",
       "      <td>COOPER SQUARE</td>\n",
       "      <td>EAST 6 STREET</td>\n",
       "      <td>EAST 7 STREET</td>\n",
       "      <td>NaN</td>\n",
       "      <td>NaN</td>\n",
       "      <td>ADDRESS</td>\n",
       "      <td>NEW YORK</td>\n",
       "      <td>NaN</td>\n",
       "      <td>Precinct</td>\n",
       "      <td>Closed</td>\n",
       "      <td>04/23/2015 04:20:12 PM</td>\n",
       "      <td>The Police Department responded to the complai...</td>\n",
       "      <td>04/23/2015 08:59:25 AM</td>\n",
       "      <td>03 MANHATTAN</td>\n",
       "      <td>MANHATTAN</td>\n",
       "      <td>986811.0</td>\n",
       "      <td>204638.0</td>\n",
       "      <td>Unspecified</td>\n",
       "      <td>MANHATTAN</td>\n",
       "      <td>NaN</td>\n",
       "      <td>NaN</td>\n",
       "      <td>NaN</td>\n",
       "      <td>NaN</td>\n",
       "      <td>40.728360</td>\n",
       "      <td>-73.990760</td>\n",
       "      <td>(40.72836035619121, -73.99075994566779)</td>\n",
       "      <td>0 days 00:39:13</td>\n",
       "    </tr>\n",
       "  </tbody>\n",
       "</table>\n",
       "</div>"
      ],
      "text/plain": [
       "              Created Date         Closed Date  \\\n",
       "45020  2015-11-16 09:34:52 2015-11-16 15:26:48   \n",
       "196986 2015-07-02 23:12:00 2015-07-02 23:55:00   \n",
       "232681 2015-06-02 23:09:00 2015-06-03 00:46:00   \n",
       "278330 2015-04-23 08:20:12 2015-04-23 08:59:25   \n",
       "\n",
       "                            Agency Name       Complaint Type  \\\n",
       "45020   New York City Police Department      Illegal Parking   \n",
       "196986  New York City Police Department   Noise - Commercial   \n",
       "232681  New York City Police Department   Noise - Commercial   \n",
       "278330  New York City Police Department  Homeless Encampment   \n",
       "\n",
       "                           Descriptor        Location Type  Incident Zip  \\\n",
       "45020   Posted Parking Sign Violation      Street/Sidewalk       10011.0   \n",
       "196986                   Loud Talking     Store/Commercial       10472.0   \n",
       "232681               Loud Music/Party  Club/Bar/Restaurant       11222.0   \n",
       "278330                            NaN      Street/Sidewalk       10003.0   \n",
       "\n",
       "            Incident Address        Street Name  Cross Street 1  \\\n",
       "45020     240 WEST 23 STREET     WEST 23 STREET        7 AVENUE   \n",
       "196986     1207 BEACH AVENUE       BEACH AVENUE  GLEASON AVENUE   \n",
       "232681  66 GREENPOINT AVENUE  GREENPOINT AVENUE     WEST STREET   \n",
       "278330      41 COOPER SQUARE      COOPER SQUARE   EAST 6 STREET   \n",
       "\n",
       "            Cross Street 2 Intersection Street 1 Intersection Street 2  \\\n",
       "45020             8 AVENUE                   NaN                   NaN   \n",
       "196986  WESTCHESTER AVENUE                   NaN                   NaN   \n",
       "232681     FRANKLIN STREET                   NaN                   NaN   \n",
       "278330       EAST 7 STREET                   NaN                   NaN   \n",
       "\n",
       "       Address Type      City Landmark Facility Type  Status  \\\n",
       "45020       ADDRESS  NEW YORK      NaN      Precinct  Closed   \n",
       "196986      ADDRESS     BRONX      NaN      Precinct  Closed   \n",
       "232681      ADDRESS  BROOKLYN      NaN      Precinct  Closed   \n",
       "278330      ADDRESS  NEW YORK      NaN      Precinct  Closed   \n",
       "\n",
       "                      Due Date  \\\n",
       "45020   11/16/2015 05:34:52 PM   \n",
       "196986           07-03-15 7:12   \n",
       "232681           06-03-15 7:09   \n",
       "278330  04/23/2015 04:20:12 PM   \n",
       "\n",
       "                                   Resolution Description  \\\n",
       "45020   The Police Department responded to the complai...   \n",
       "196986  The Police Department responded to the complai...   \n",
       "232681  The Police Department responded to the complai...   \n",
       "278330  The Police Department responded to the complai...   \n",
       "\n",
       "       Resolution Action Updated Date Community Board    Borough  \\\n",
       "45020          11/16/2015 03:26:49 PM    04 MANHATTAN  MANHATTAN   \n",
       "196986                 07-02-15 23:55        09 BRONX      BRONX   \n",
       "232681                  06-03-15 0:46     01 BROOKLYN   BROOKLYN   \n",
       "278330         04/23/2015 08:59:25 AM    03 MANHATTAN  MANHATTAN   \n",
       "\n",
       "        X Coordinate (State Plane)  Y Coordinate (State Plane)  \\\n",
       "45020                     985112.0                    210559.0   \n",
       "196986                   1021327.0                    241829.0   \n",
       "232681                    995784.0                    205164.0   \n",
       "278330                    986811.0                    204638.0   \n",
       "\n",
       "       Park Facility Name Park Borough Bridge Highway Name  \\\n",
       "45020         Unspecified    MANHATTAN                 NaN   \n",
       "196986        Unspecified        BRONX                 NaN   \n",
       "232681        Unspecified     BROOKLYN                 NaN   \n",
       "278330        Unspecified    MANHATTAN                 NaN   \n",
       "\n",
       "       Bridge Highway Direction Road Ramp Bridge Highway Segment   Latitude  \\\n",
       "45020                       NaN       NaN                    NaN  40.744612   \n",
       "196986                      NaN       NaN                    NaN  40.830362   \n",
       "232681                      NaN       NaN                    NaN  40.729797   \n",
       "278330                      NaN       NaN                    NaN  40.728360   \n",
       "\n",
       "        Longitude                                  Location  \\\n",
       "45020  -73.996889   (40.744612366935755, -73.9968891566609)   \n",
       "196986 -73.866022   (40.83036235589997, -73.86602154214397)   \n",
       "232681 -73.958385  (40.729796948451764, -73.95838458100494)   \n",
       "278330 -73.990760   (40.72836035619121, -73.99075994566779)   \n",
       "\n",
       "       Request_Closing_Time  \n",
       "45020       0 days 05:51:56  \n",
       "196986      0 days 00:43:00  \n",
       "232681      0 days 01:37:00  \n",
       "278330      0 days 00:39:13  "
      ]
     },
     "execution_count": 66,
     "metadata": {},
     "output_type": "execute_result"
    }
   ],
   "source": [
    "data_mod.sample(4)"
   ]
  },
  {
   "cell_type": "code",
   "execution_count": 67,
   "id": "a3018341",
   "metadata": {},
   "outputs": [
    {
     "data": {
      "text/plain": [
       "Index(['Created Date', 'Closed Date', 'Agency Name', 'Complaint Type',\n",
       "       'Descriptor', 'Location Type', 'Incident Zip', 'Incident Address',\n",
       "       'Street Name', 'Cross Street 1', 'Cross Street 2',\n",
       "       'Intersection Street 1', 'Intersection Street 2', 'Address Type',\n",
       "       'City', 'Landmark', 'Facility Type', 'Status', 'Due Date',\n",
       "       'Resolution Description', 'Resolution Action Updated Date',\n",
       "       'Community Board', 'Borough', 'X Coordinate (State Plane)',\n",
       "       'Y Coordinate (State Plane)', 'Park Facility Name', 'Park Borough',\n",
       "       'Bridge Highway Name', 'Bridge Highway Direction', 'Road Ramp',\n",
       "       'Bridge Highway Segment', 'Latitude', 'Longitude', 'Location',\n",
       "       'Request_Closing_Time'],\n",
       "      dtype='object')"
      ]
     },
     "execution_count": 67,
     "metadata": {},
     "output_type": "execute_result"
    }
   ],
   "source": [
    "data_mod.columns"
   ]
  },
  {
   "cell_type": "markdown",
   "id": "4e822ead",
   "metadata": {},
   "source": [
    "### 3. Provide major insights/patterns that you can offer in a visual format (graphs or tables); at least 4 major conclusions that you can come up with after generic data mining"
   ]
  },
  {
   "cell_type": "markdown",
   "id": "973cf954",
   "metadata": {},
   "source": [
    "Now, lets visualize some basic results that we can conclude from the data. For instance, which type of complaint is more dominant?\n",
    "First, we will attempt the visualization of a single feature (complain type). Then, we will do the same for other features. "
   ]
  },
  {
   "cell_type": "code",
   "execution_count": 68,
   "id": "c852dba3",
   "metadata": {},
   "outputs": [
    {
     "data": {
      "text/html": [
       "<div>\n",
       "<style scoped>\n",
       "    .dataframe tbody tr th:only-of-type {\n",
       "        vertical-align: middle;\n",
       "    }\n",
       "\n",
       "    .dataframe tbody tr th {\n",
       "        vertical-align: top;\n",
       "    }\n",
       "\n",
       "    .dataframe thead th {\n",
       "        text-align: right;\n",
       "    }\n",
       "</style>\n",
       "<table border=\"1\" class=\"dataframe\">\n",
       "  <thead>\n",
       "    <tr style=\"text-align: right;\">\n",
       "      <th></th>\n",
       "      <th>Counts</th>\n",
       "    </tr>\n",
       "  </thead>\n",
       "  <tbody>\n",
       "    <tr>\n",
       "      <th>Blocked Driveway</th>\n",
       "      <td>77044</td>\n",
       "    </tr>\n",
       "    <tr>\n",
       "      <th>Illegal Parking</th>\n",
       "      <td>75361</td>\n",
       "    </tr>\n",
       "    <tr>\n",
       "      <th>Noise - Street/Sidewalk</th>\n",
       "      <td>48612</td>\n",
       "    </tr>\n",
       "    <tr>\n",
       "      <th>Noise - Commercial</th>\n",
       "      <td>35577</td>\n",
       "    </tr>\n",
       "    <tr>\n",
       "      <th>Derelict Vehicle</th>\n",
       "      <td>17718</td>\n",
       "    </tr>\n",
       "    <tr>\n",
       "      <th>Noise - Vehicle</th>\n",
       "      <td>17083</td>\n",
       "    </tr>\n",
       "    <tr>\n",
       "      <th>Animal Abuse</th>\n",
       "      <td>7778</td>\n",
       "    </tr>\n",
       "    <tr>\n",
       "      <th>Traffic</th>\n",
       "      <td>4498</td>\n",
       "    </tr>\n",
       "    <tr>\n",
       "      <th>Homeless Encampment</th>\n",
       "      <td>4416</td>\n",
       "    </tr>\n",
       "    <tr>\n",
       "      <th>Noise - Park</th>\n",
       "      <td>4042</td>\n",
       "    </tr>\n",
       "    <tr>\n",
       "      <th>Vending</th>\n",
       "      <td>3802</td>\n",
       "    </tr>\n",
       "    <tr>\n",
       "      <th>Drinking</th>\n",
       "      <td>1280</td>\n",
       "    </tr>\n",
       "    <tr>\n",
       "      <th>Noise - House of Worship</th>\n",
       "      <td>931</td>\n",
       "    </tr>\n",
       "    <tr>\n",
       "      <th>Posting Advertisement</th>\n",
       "      <td>650</td>\n",
       "    </tr>\n",
       "    <tr>\n",
       "      <th>Urinating in Public</th>\n",
       "      <td>592</td>\n",
       "    </tr>\n",
       "    <tr>\n",
       "      <th>Bike/Roller/Skate Chronic</th>\n",
       "      <td>427</td>\n",
       "    </tr>\n",
       "    <tr>\n",
       "      <th>Panhandling</th>\n",
       "      <td>307</td>\n",
       "    </tr>\n",
       "    <tr>\n",
       "      <th>Disorderly Youth</th>\n",
       "      <td>286</td>\n",
       "    </tr>\n",
       "    <tr>\n",
       "      <th>Illegal Fireworks</th>\n",
       "      <td>168</td>\n",
       "    </tr>\n",
       "    <tr>\n",
       "      <th>Graffiti</th>\n",
       "      <td>113</td>\n",
       "    </tr>\n",
       "    <tr>\n",
       "      <th>Agency Issues</th>\n",
       "      <td>6</td>\n",
       "    </tr>\n",
       "    <tr>\n",
       "      <th>Squeegee</th>\n",
       "      <td>4</td>\n",
       "    </tr>\n",
       "    <tr>\n",
       "      <th>Ferry Complaint</th>\n",
       "      <td>2</td>\n",
       "    </tr>\n",
       "    <tr>\n",
       "      <th>Animal in a Park</th>\n",
       "      <td>1</td>\n",
       "    </tr>\n",
       "  </tbody>\n",
       "</table>\n",
       "</div>"
      ],
      "text/plain": [
       "                           Counts\n",
       "Blocked Driveway            77044\n",
       "Illegal Parking             75361\n",
       "Noise - Street/Sidewalk     48612\n",
       "Noise - Commercial          35577\n",
       "Derelict Vehicle            17718\n",
       "Noise - Vehicle             17083\n",
       "Animal Abuse                 7778\n",
       "Traffic                      4498\n",
       "Homeless Encampment          4416\n",
       "Noise - Park                 4042\n",
       "Vending                      3802\n",
       "Drinking                     1280\n",
       "Noise - House of Worship      931\n",
       "Posting Advertisement         650\n",
       "Urinating in Public           592\n",
       "Bike/Roller/Skate Chronic     427\n",
       "Panhandling                   307\n",
       "Disorderly Youth              286\n",
       "Illegal Fireworks             168\n",
       "Graffiti                      113\n",
       "Agency Issues                   6\n",
       "Squeegee                        4\n",
       "Ferry Complaint                 2\n",
       "Animal in a Park                1"
      ]
     },
     "execution_count": 68,
     "metadata": {},
     "output_type": "execute_result"
    }
   ],
   "source": [
    "# Measuring the frequency (occurence) of the different complaint\n",
    "\n",
    "data_complaint = data['Complaint Type'].value_counts()\n",
    "data_complaint = data_complaint.to_frame()\n",
    "data_complaint = data_complaint.rename(columns={'Complaint Type':'Counts'})\n",
    "data_complaint"
   ]
  },
  {
   "cell_type": "code",
   "execution_count": 69,
   "id": "4f4453bf",
   "metadata": {},
   "outputs": [
    {
     "data": {
      "text/html": [
       "<div>\n",
       "<style scoped>\n",
       "    .dataframe tbody tr th:only-of-type {\n",
       "        vertical-align: middle;\n",
       "    }\n",
       "\n",
       "    .dataframe tbody tr th {\n",
       "        vertical-align: top;\n",
       "    }\n",
       "\n",
       "    .dataframe thead th {\n",
       "        text-align: right;\n",
       "    }\n",
       "</style>\n",
       "<table border=\"1\" class=\"dataframe\">\n",
       "  <thead>\n",
       "    <tr style=\"text-align: right;\">\n",
       "      <th></th>\n",
       "      <th>Counts</th>\n",
       "      <th>Percentage</th>\n",
       "    </tr>\n",
       "  </thead>\n",
       "  <tbody>\n",
       "    <tr>\n",
       "      <th>Blocked Driveway</th>\n",
       "      <td>77044</td>\n",
       "      <td>25.62</td>\n",
       "    </tr>\n",
       "    <tr>\n",
       "      <th>Illegal Parking</th>\n",
       "      <td>75361</td>\n",
       "      <td>25.06</td>\n",
       "    </tr>\n",
       "    <tr>\n",
       "      <th>Noise - Street/Sidewalk</th>\n",
       "      <td>48612</td>\n",
       "      <td>16.17</td>\n",
       "    </tr>\n",
       "    <tr>\n",
       "      <th>Noise - Commercial</th>\n",
       "      <td>35577</td>\n",
       "      <td>11.83</td>\n",
       "    </tr>\n",
       "    <tr>\n",
       "      <th>Derelict Vehicle</th>\n",
       "      <td>17718</td>\n",
       "      <td>5.89</td>\n",
       "    </tr>\n",
       "    <tr>\n",
       "      <th>Noise - Vehicle</th>\n",
       "      <td>17083</td>\n",
       "      <td>5.68</td>\n",
       "    </tr>\n",
       "    <tr>\n",
       "      <th>Animal Abuse</th>\n",
       "      <td>7778</td>\n",
       "      <td>2.59</td>\n",
       "    </tr>\n",
       "    <tr>\n",
       "      <th>Traffic</th>\n",
       "      <td>4498</td>\n",
       "      <td>1.50</td>\n",
       "    </tr>\n",
       "    <tr>\n",
       "      <th>Homeless Encampment</th>\n",
       "      <td>4416</td>\n",
       "      <td>1.47</td>\n",
       "    </tr>\n",
       "    <tr>\n",
       "      <th>Noise - Park</th>\n",
       "      <td>4042</td>\n",
       "      <td>1.34</td>\n",
       "    </tr>\n",
       "    <tr>\n",
       "      <th>Vending</th>\n",
       "      <td>3802</td>\n",
       "      <td>1.26</td>\n",
       "    </tr>\n",
       "    <tr>\n",
       "      <th>Drinking</th>\n",
       "      <td>1280</td>\n",
       "      <td>0.43</td>\n",
       "    </tr>\n",
       "    <tr>\n",
       "      <th>Noise - House of Worship</th>\n",
       "      <td>931</td>\n",
       "      <td>0.31</td>\n",
       "    </tr>\n",
       "    <tr>\n",
       "      <th>Posting Advertisement</th>\n",
       "      <td>650</td>\n",
       "      <td>0.22</td>\n",
       "    </tr>\n",
       "    <tr>\n",
       "      <th>Urinating in Public</th>\n",
       "      <td>592</td>\n",
       "      <td>0.20</td>\n",
       "    </tr>\n",
       "    <tr>\n",
       "      <th>Bike/Roller/Skate Chronic</th>\n",
       "      <td>427</td>\n",
       "      <td>0.14</td>\n",
       "    </tr>\n",
       "    <tr>\n",
       "      <th>Panhandling</th>\n",
       "      <td>307</td>\n",
       "      <td>0.10</td>\n",
       "    </tr>\n",
       "    <tr>\n",
       "      <th>Disorderly Youth</th>\n",
       "      <td>286</td>\n",
       "      <td>0.10</td>\n",
       "    </tr>\n",
       "    <tr>\n",
       "      <th>Illegal Fireworks</th>\n",
       "      <td>168</td>\n",
       "      <td>0.06</td>\n",
       "    </tr>\n",
       "    <tr>\n",
       "      <th>Graffiti</th>\n",
       "      <td>113</td>\n",
       "      <td>0.04</td>\n",
       "    </tr>\n",
       "    <tr>\n",
       "      <th>Agency Issues</th>\n",
       "      <td>6</td>\n",
       "      <td>0.00</td>\n",
       "    </tr>\n",
       "    <tr>\n",
       "      <th>Squeegee</th>\n",
       "      <td>4</td>\n",
       "      <td>0.00</td>\n",
       "    </tr>\n",
       "    <tr>\n",
       "      <th>Ferry Complaint</th>\n",
       "      <td>2</td>\n",
       "      <td>0.00</td>\n",
       "    </tr>\n",
       "    <tr>\n",
       "      <th>Animal in a Park</th>\n",
       "      <td>1</td>\n",
       "      <td>0.00</td>\n",
       "    </tr>\n",
       "  </tbody>\n",
       "</table>\n",
       "</div>"
      ],
      "text/plain": [
       "                           Counts  Percentage\n",
       "Blocked Driveway            77044       25.62\n",
       "Illegal Parking             75361       25.06\n",
       "Noise - Street/Sidewalk     48612       16.17\n",
       "Noise - Commercial          35577       11.83\n",
       "Derelict Vehicle            17718        5.89\n",
       "Noise - Vehicle             17083        5.68\n",
       "Animal Abuse                 7778        2.59\n",
       "Traffic                      4498        1.50\n",
       "Homeless Encampment          4416        1.47\n",
       "Noise - Park                 4042        1.34\n",
       "Vending                      3802        1.26\n",
       "Drinking                     1280        0.43\n",
       "Noise - House of Worship      931        0.31\n",
       "Posting Advertisement         650        0.22\n",
       "Urinating in Public           592        0.20\n",
       "Bike/Roller/Skate Chronic     427        0.14\n",
       "Panhandling                   307        0.10\n",
       "Disorderly Youth              286        0.10\n",
       "Illegal Fireworks             168        0.06\n",
       "Graffiti                      113        0.04\n",
       "Agency Issues                   6        0.00\n",
       "Squeegee                        4        0.00\n",
       "Ferry Complaint                 2        0.00\n",
       "Animal in a Park                1        0.00"
      ]
     },
     "execution_count": 69,
     "metadata": {},
     "output_type": "execute_result"
    }
   ],
   "source": [
    "# Evaluate the above in percentage\n",
    "data_complaint['Percentage'] = np.around((data_complaint.Counts/data_complaint.Counts.sum())*100,decimals=2)\n",
    "data_complaint"
   ]
  },
  {
   "cell_type": "code",
   "execution_count": 70,
   "id": "c8985edb",
   "metadata": {},
   "outputs": [
    {
     "data": {
      "text/html": [
       "<div>\n",
       "<style scoped>\n",
       "    .dataframe tbody tr th:only-of-type {\n",
       "        vertical-align: middle;\n",
       "    }\n",
       "\n",
       "    .dataframe tbody tr th {\n",
       "        vertical-align: top;\n",
       "    }\n",
       "\n",
       "    .dataframe thead th {\n",
       "        text-align: right;\n",
       "    }\n",
       "</style>\n",
       "<table border=\"1\" class=\"dataframe\">\n",
       "  <thead>\n",
       "    <tr style=\"text-align: right;\">\n",
       "      <th></th>\n",
       "      <th>Complaint Type</th>\n",
       "      <th>Counts</th>\n",
       "      <th>Percentage</th>\n",
       "    </tr>\n",
       "  </thead>\n",
       "  <tbody>\n",
       "    <tr>\n",
       "      <th>0</th>\n",
       "      <td>Blocked Driveway</td>\n",
       "      <td>77044</td>\n",
       "      <td>25.62</td>\n",
       "    </tr>\n",
       "    <tr>\n",
       "      <th>1</th>\n",
       "      <td>Illegal Parking</td>\n",
       "      <td>75361</td>\n",
       "      <td>25.06</td>\n",
       "    </tr>\n",
       "    <tr>\n",
       "      <th>2</th>\n",
       "      <td>Noise - Street/Sidewalk</td>\n",
       "      <td>48612</td>\n",
       "      <td>16.17</td>\n",
       "    </tr>\n",
       "    <tr>\n",
       "      <th>3</th>\n",
       "      <td>Noise - Commercial</td>\n",
       "      <td>35577</td>\n",
       "      <td>11.83</td>\n",
       "    </tr>\n",
       "    <tr>\n",
       "      <th>4</th>\n",
       "      <td>Derelict Vehicle</td>\n",
       "      <td>17718</td>\n",
       "      <td>5.89</td>\n",
       "    </tr>\n",
       "    <tr>\n",
       "      <th>5</th>\n",
       "      <td>Noise - Vehicle</td>\n",
       "      <td>17083</td>\n",
       "      <td>5.68</td>\n",
       "    </tr>\n",
       "    <tr>\n",
       "      <th>6</th>\n",
       "      <td>Animal Abuse</td>\n",
       "      <td>7778</td>\n",
       "      <td>2.59</td>\n",
       "    </tr>\n",
       "    <tr>\n",
       "      <th>7</th>\n",
       "      <td>Traffic</td>\n",
       "      <td>4498</td>\n",
       "      <td>1.50</td>\n",
       "    </tr>\n",
       "    <tr>\n",
       "      <th>8</th>\n",
       "      <td>Homeless Encampment</td>\n",
       "      <td>4416</td>\n",
       "      <td>1.47</td>\n",
       "    </tr>\n",
       "    <tr>\n",
       "      <th>9</th>\n",
       "      <td>Noise - Park</td>\n",
       "      <td>4042</td>\n",
       "      <td>1.34</td>\n",
       "    </tr>\n",
       "    <tr>\n",
       "      <th>10</th>\n",
       "      <td>Vending</td>\n",
       "      <td>3802</td>\n",
       "      <td>1.26</td>\n",
       "    </tr>\n",
       "  </tbody>\n",
       "</table>\n",
       "</div>"
      ],
      "text/plain": [
       "             Complaint Type  Counts  Percentage\n",
       "0          Blocked Driveway   77044       25.62\n",
       "1           Illegal Parking   75361       25.06\n",
       "2   Noise - Street/Sidewalk   48612       16.17\n",
       "3        Noise - Commercial   35577       11.83\n",
       "4          Derelict Vehicle   17718        5.89\n",
       "5           Noise - Vehicle   17083        5.68\n",
       "6              Animal Abuse    7778        2.59\n",
       "7                   Traffic    4498        1.50\n",
       "8       Homeless Encampment    4416        1.47\n",
       "9              Noise - Park    4042        1.34\n",
       "10                  Vending    3802        1.26"
      ]
     },
     "execution_count": 70,
     "metadata": {},
     "output_type": "execute_result"
    }
   ],
   "source": [
    "# Keeping the major complaint types\n",
    "\n",
    "data_complaint = data_complaint[data_complaint.Percentage>1.0]\n",
    "data_complaint = data_complaint.reset_index()\n",
    "data_complaint = data_complaint.rename(columns={'index':'Complaint Type'})\n",
    "data_complaint"
   ]
  },
  {
   "cell_type": "code",
   "execution_count": 71,
   "id": "e541225d",
   "metadata": {},
   "outputs": [
    {
     "data": {
      "image/png": "[encoded data removed]",
      "text/plain": [
       "<Figure size 864x432 with 1 Axes>"
      ]
     },
     "metadata": {
      "needs_background": "light"
     },
     "output_type": "display_data"
    },
    {
     "data": {
      "text/plain": [
       "<Figure size 432x288 with 0 Axes>"
      ]
     },
     "metadata": {},
     "output_type": "display_data"
    }
   ],
   "source": [
    "# Visualization of the above evaluated dataset\n",
    "plt.figure(figsize=(12,6))\n",
    "com_type = sns.barplot(x=data_complaint['Complaint Type'],y=data_complaint.Percentage,data=data_complaint)\n",
    "com_type.set_xticklabels(com_type.get_xticklabels(), rotation=30, ha=\"right\")\n",
    "plt.title('Proportion of different complaint type (major)')\n",
    "plt.show()\n",
    "plt.tight_layout()"
   ]
  },
  {
   "cell_type": "markdown",
   "id": "2700fb27",
   "metadata": {},
   "source": [
    "From the above data (Counts and Percentage), it is clear that main complain comes from 'Blocked Driveway', 'Illegal Parking' and noise from Street/Sidewalk or Commercial. \n",
    "\n",
    "However, it is alluring to represent such results via visualization. And it is easy to realise the facts also. \n",
    "\n",
    "Now, we will do the same for several features."
   ]
  },
  {
   "cell_type": "code",
   "execution_count": 72,
   "id": "d5ba1ccf",
   "metadata": {},
   "outputs": [
    {
     "data": {
      "text/html": [
       "<div>\n",
       "<style scoped>\n",
       "    .dataframe tbody tr th:only-of-type {\n",
       "        vertical-align: middle;\n",
       "    }\n",
       "\n",
       "    .dataframe tbody tr th {\n",
       "        vertical-align: top;\n",
       "    }\n",
       "\n",
       "    .dataframe thead th {\n",
       "        text-align: right;\n",
       "    }\n",
       "</style>\n",
       "<table border=\"1\" class=\"dataframe\">\n",
       "  <thead>\n",
       "    <tr style=\"text-align: right;\">\n",
       "      <th></th>\n",
       "      <th>Descriptor</th>\n",
       "      <th>Percentage</th>\n",
       "    </tr>\n",
       "  </thead>\n",
       "  <tbody>\n",
       "    <tr>\n",
       "      <th>0</th>\n",
       "      <td>Loud Music/Party</td>\n",
       "      <td>20.84</td>\n",
       "    </tr>\n",
       "    <tr>\n",
       "      <th>1</th>\n",
       "      <td>No Access</td>\n",
       "      <td>19.33</td>\n",
       "    </tr>\n",
       "    <tr>\n",
       "      <th>2</th>\n",
       "      <td>Posted Parking Sign Violation</td>\n",
       "      <td>7.61</td>\n",
       "    </tr>\n",
       "    <tr>\n",
       "      <th>3</th>\n",
       "      <td>Loud Talking</td>\n",
       "      <td>7.32</td>\n",
       "    </tr>\n",
       "    <tr>\n",
       "      <th>4</th>\n",
       "      <td>Partial Access</td>\n",
       "      <td>6.81</td>\n",
       "    </tr>\n",
       "    <tr>\n",
       "      <th>5</th>\n",
       "      <td>With License Plate</td>\n",
       "      <td>6.01</td>\n",
       "    </tr>\n",
       "    <tr>\n",
       "      <th>6</th>\n",
       "      <td>Blocked Hydrant</td>\n",
       "      <td>5.46</td>\n",
       "    </tr>\n",
       "    <tr>\n",
       "      <th>7</th>\n",
       "      <td>Commercial Overnight Parking</td>\n",
       "      <td>4.13</td>\n",
       "    </tr>\n",
       "    <tr>\n",
       "      <th>8</th>\n",
       "      <td>Car/Truck Music</td>\n",
       "      <td>3.82</td>\n",
       "    </tr>\n",
       "    <tr>\n",
       "      <th>9</th>\n",
       "      <td>Blocked Sidewalk</td>\n",
       "      <td>3.77</td>\n",
       "    </tr>\n",
       "  </tbody>\n",
       "</table>\n",
       "</div>"
      ],
      "text/plain": [
       "                      Descriptor  Percentage\n",
       "0               Loud Music/Party       20.84\n",
       "1                      No Access       19.33\n",
       "2  Posted Parking Sign Violation        7.61\n",
       "3                   Loud Talking        7.32\n",
       "4                 Partial Access        6.81\n",
       "5             With License Plate        6.01\n",
       "6                Blocked Hydrant        5.46\n",
       "7   Commercial Overnight Parking        4.13\n",
       "8                Car/Truck Music        3.82\n",
       "9               Blocked Sidewalk        3.77"
      ]
     },
     "execution_count": 72,
     "metadata": {},
     "output_type": "execute_result"
    }
   ],
   "source": [
    "# Applying the above procedure for Descriptor\n",
    "\n",
    "data_descriptor = np.around(((data_mod['Descriptor'].value_counts()*100) / data_mod['Descriptor'].value_counts().sum()),\n",
    "                            decimals=2)\n",
    "data_descriptor = data_descriptor.to_frame()\n",
    "data_descriptor = data_descriptor.rename(columns={'Descriptor':'Percentage'})\n",
    "data_descriptor['Descriptor'] = data_descriptor.index\n",
    "cols = data_descriptor.columns.tolist()\n",
    "cols = cols[-1:]+cols[:-1]\n",
    "data_descriptor = data_descriptor[cols]\n",
    "data_descriptor = data_descriptor[(data_descriptor.Percentage) >= 2.0]\n",
    "data_descriptor = data_descriptor.reset_index()\n",
    "data_descriptor = data_descriptor.drop(columns=['index'],axis=1)\n",
    "data_descriptor"
   ]
  },
  {
   "cell_type": "code",
   "execution_count": 73,
   "id": "dd331935",
   "metadata": {},
   "outputs": [
    {
     "data": {
      "text/html": [
       "<div>\n",
       "<style scoped>\n",
       "    .dataframe tbody tr th:only-of-type {\n",
       "        vertical-align: middle;\n",
       "    }\n",
       "\n",
       "    .dataframe tbody tr th {\n",
       "        vertical-align: top;\n",
       "    }\n",
       "\n",
       "    .dataframe thead th {\n",
       "        text-align: right;\n",
       "    }\n",
       "</style>\n",
       "<table border=\"1\" class=\"dataframe\">\n",
       "  <thead>\n",
       "    <tr style=\"text-align: right;\">\n",
       "      <th></th>\n",
       "      <th>Location Type</th>\n",
       "      <th>Percentage</th>\n",
       "    </tr>\n",
       "  </thead>\n",
       "  <tbody>\n",
       "    <tr>\n",
       "      <th>0</th>\n",
       "      <td>Street/Sidewalk</td>\n",
       "      <td>82.94</td>\n",
       "    </tr>\n",
       "    <tr>\n",
       "      <th>1</th>\n",
       "      <td>Store/Commercial</td>\n",
       "      <td>6.78</td>\n",
       "    </tr>\n",
       "    <tr>\n",
       "      <th>2</th>\n",
       "      <td>Club/Bar/Restaurant</td>\n",
       "      <td>5.78</td>\n",
       "    </tr>\n",
       "    <tr>\n",
       "      <th>3</th>\n",
       "      <td>Residential Building/House</td>\n",
       "      <td>2.32</td>\n",
       "    </tr>\n",
       "    <tr>\n",
       "      <th>4</th>\n",
       "      <td>Park/Playground</td>\n",
       "      <td>1.59</td>\n",
       "    </tr>\n",
       "    <tr>\n",
       "      <th>5</th>\n",
       "      <td>House of Worship</td>\n",
       "      <td>0.31</td>\n",
       "    </tr>\n",
       "  </tbody>\n",
       "</table>\n",
       "</div>"
      ],
      "text/plain": [
       "                Location Type  Percentage\n",
       "0             Street/Sidewalk       82.94\n",
       "1            Store/Commercial        6.78\n",
       "2         Club/Bar/Restaurant        5.78\n",
       "3  Residential Building/House        2.32\n",
       "4             Park/Playground        1.59\n",
       "5            House of Worship        0.31"
      ]
     },
     "execution_count": 73,
     "metadata": {},
     "output_type": "execute_result"
    }
   ],
   "source": [
    "# Applying the above procedure for Location Type\n",
    "\n",
    "data_location_type = np.around(((data_mod['Location Type'].value_counts()*100) / data_mod['Location Type'].value_counts().sum()),\n",
    "                            decimals=2)\n",
    "data_location_type = data_location_type.to_frame()\n",
    "data_location_type = data_location_type.rename(columns={'Location Type':'Percentage'})\n",
    "data_location_type['Location Type'] = data_location_type.index\n",
    "cols = data_location_type.columns.tolist()\n",
    "cols = cols[-1:]+cols[:-1]\n",
    "data_location_type = data_location_type[cols]\n",
    "data_location_type = data_location_type[(data_location_type.Percentage) >= 0.1]\n",
    "data_location_type = data_location_type.reset_index()\n",
    "data_location_type = data_location_type.drop(columns=['index'],axis=1)\n",
    "data_location_type"
   ]
  },
  {
   "cell_type": "code",
   "execution_count": 74,
   "id": "fdeefc9b",
   "metadata": {},
   "outputs": [
    {
     "data": {
      "text/html": [
       "<div>\n",
       "<style scoped>\n",
       "    .dataframe tbody tr th:only-of-type {\n",
       "        vertical-align: middle;\n",
       "    }\n",
       "\n",
       "    .dataframe tbody tr th {\n",
       "        vertical-align: top;\n",
       "    }\n",
       "\n",
       "    .dataframe thead th {\n",
       "        text-align: right;\n",
       "    }\n",
       "</style>\n",
       "<table border=\"1\" class=\"dataframe\">\n",
       "  <thead>\n",
       "    <tr style=\"text-align: right;\">\n",
       "      <th></th>\n",
       "      <th>City</th>\n",
       "      <th>Percentage</th>\n",
       "    </tr>\n",
       "  </thead>\n",
       "  <tbody>\n",
       "    <tr>\n",
       "      <th>0</th>\n",
       "      <td>BROOKLYN</td>\n",
       "      <td>32.98</td>\n",
       "    </tr>\n",
       "    <tr>\n",
       "      <th>1</th>\n",
       "      <td>NEW YORK</td>\n",
       "      <td>22.14</td>\n",
       "    </tr>\n",
       "    <tr>\n",
       "      <th>2</th>\n",
       "      <td>BRONX</td>\n",
       "      <td>13.65</td>\n",
       "    </tr>\n",
       "    <tr>\n",
       "      <th>3</th>\n",
       "      <td>STATEN ISLAND</td>\n",
       "      <td>4.14</td>\n",
       "    </tr>\n",
       "    <tr>\n",
       "      <th>4</th>\n",
       "      <td>JAMAICA</td>\n",
       "      <td>2.45</td>\n",
       "    </tr>\n",
       "    <tr>\n",
       "      <th>5</th>\n",
       "      <td>ASTORIA</td>\n",
       "      <td>2.12</td>\n",
       "    </tr>\n",
       "    <tr>\n",
       "      <th>6</th>\n",
       "      <td>FLUSHING</td>\n",
       "      <td>2.00</td>\n",
       "    </tr>\n",
       "    <tr>\n",
       "      <th>7</th>\n",
       "      <td>RIDGEWOOD</td>\n",
       "      <td>1.73</td>\n",
       "    </tr>\n",
       "    <tr>\n",
       "      <th>8</th>\n",
       "      <td>CORONA</td>\n",
       "      <td>1.44</td>\n",
       "    </tr>\n",
       "    <tr>\n",
       "      <th>9</th>\n",
       "      <td>WOODSIDE</td>\n",
       "      <td>1.19</td>\n",
       "    </tr>\n",
       "  </tbody>\n",
       "</table>\n",
       "</div>"
      ],
      "text/plain": [
       "            City  Percentage\n",
       "0       BROOKLYN       32.98\n",
       "1       NEW YORK       22.14\n",
       "2          BRONX       13.65\n",
       "3  STATEN ISLAND        4.14\n",
       "4        JAMAICA        2.45\n",
       "5        ASTORIA        2.12\n",
       "6       FLUSHING        2.00\n",
       "7      RIDGEWOOD        1.73\n",
       "8         CORONA        1.44\n",
       "9       WOODSIDE        1.19"
      ]
     },
     "execution_count": 74,
     "metadata": {},
     "output_type": "execute_result"
    }
   ],
   "source": [
    "# Applying the above procedure for City\n",
    "\n",
    "data_city = np.around(((data_mod['City'].value_counts()*100) / data_mod['City'].value_counts().sum()),\n",
    "                            decimals=2)\n",
    "data_city = data_city.to_frame()\n",
    "data_city = data_city.rename(columns={'City':'Percentage'})\n",
    "data_city['City'] = data_city.index\n",
    "cols = data_city.columns.tolist()\n",
    "cols = cols[-1:]+cols[:-1]\n",
    "data_city = data_city[cols]\n",
    "data_city = data_city[(data_city.Percentage) >= 1.0]\n",
    "data_city = data_city.reset_index()\n",
    "data_city = data_city.drop(columns=['index'],axis=1)\n",
    "data_city"
   ]
  },
  {
   "cell_type": "code",
   "execution_count": 75,
   "id": "3fd23072",
   "metadata": {},
   "outputs": [
    {
     "data": {
      "text/html": [
       "<div>\n",
       "<style scoped>\n",
       "    .dataframe tbody tr th:only-of-type {\n",
       "        vertical-align: middle;\n",
       "    }\n",
       "\n",
       "    .dataframe tbody tr th {\n",
       "        vertical-align: top;\n",
       "    }\n",
       "\n",
       "    .dataframe thead th {\n",
       "        text-align: right;\n",
       "    }\n",
       "</style>\n",
       "<table border=\"1\" class=\"dataframe\">\n",
       "  <thead>\n",
       "    <tr style=\"text-align: right;\">\n",
       "      <th></th>\n",
       "      <th>Address Type</th>\n",
       "      <th>Percentage</th>\n",
       "    </tr>\n",
       "  </thead>\n",
       "  <tbody>\n",
       "    <tr>\n",
       "      <th>0</th>\n",
       "      <td>ADDRESS</td>\n",
       "      <td>80.11</td>\n",
       "    </tr>\n",
       "    <tr>\n",
       "      <th>1</th>\n",
       "      <td>INTERSECTION</td>\n",
       "      <td>14.56</td>\n",
       "    </tr>\n",
       "    <tr>\n",
       "      <th>2</th>\n",
       "      <td>BLOCKFACE</td>\n",
       "      <td>4.03</td>\n",
       "    </tr>\n",
       "    <tr>\n",
       "      <th>3</th>\n",
       "      <td>LATLONG</td>\n",
       "      <td>1.18</td>\n",
       "    </tr>\n",
       "    <tr>\n",
       "      <th>4</th>\n",
       "      <td>PLACENAME</td>\n",
       "      <td>0.12</td>\n",
       "    </tr>\n",
       "  </tbody>\n",
       "</table>\n",
       "</div>"
      ],
      "text/plain": [
       "   Address Type  Percentage\n",
       "0       ADDRESS       80.11\n",
       "1  INTERSECTION       14.56\n",
       "2     BLOCKFACE        4.03\n",
       "3       LATLONG        1.18\n",
       "4     PLACENAME        0.12"
      ]
     },
     "execution_count": 75,
     "metadata": {},
     "output_type": "execute_result"
    }
   ],
   "source": [
    "# Applying the above procedure for Address Type\n",
    "\n",
    "data_address_type = np.around(((data_mod['Address Type'].value_counts()*100) / data_mod['Address Type'].value_counts().sum()),\n",
    "                            decimals=2)\n",
    "data_address_type = data_address_type.to_frame()\n",
    "data_address_type = data_address_type.rename(columns={'Address Type':'Percentage'})\n",
    "data_address_type['Address Type'] = data_address_type.index\n",
    "cols = data_address_type.columns.tolist()\n",
    "cols = cols[-1:]+cols[:-1]\n",
    "data_address_type = data_address_type[cols]\n",
    "#data_address_type = data_address_type[(data_address_type.Percentage) >= 1.0]\n",
    "data_address_type = data_address_type.reset_index()\n",
    "data_address_type = data_address_type.drop(columns=['index'],axis=1)\n",
    "data_address_type"
   ]
  },
  {
   "cell_type": "code",
   "execution_count": 76,
   "id": "ca194d88",
   "metadata": {},
   "outputs": [
    {
     "data": {
      "image/png": "[encoded data removed]",
      "text/plain": [
       "<Figure size 864x720 with 4 Axes>"
      ]
     },
     "metadata": {
      "needs_background": "light"
     },
     "output_type": "display_data"
    }
   ],
   "source": [
    "fig, ax = plt.subplots(2, 2, figsize=(12, 10))\n",
    "\n",
    "#sns.set_theme(style=\"whitegrid\")\n",
    "#plt.suptitle(\"Proportion of different outcomes for few interesting features.\")\n",
    "\n",
    "descriptor = sns.barplot(ax=ax[0,0],x=data_descriptor.Descriptor,y=data_descriptor.Percentage,)\n",
    "descriptor.set_xticklabels(descriptor.get_xticklabels(), rotation=30, ha=\"right\")\n",
    "\n",
    "location_type = sns.barplot(ax=ax[0,1],x=data_location_type['Location Type'],y=data_location_type.Percentage,)\n",
    "location_type.set_xticklabels(location_type.get_xticklabels(), rotation=30, ha=\"right\")\n",
    "\n",
    "city = sns.barplot(ax=ax[1,0],x=data_city['City'],y=data_city.Percentage,)\n",
    "city.set_xticklabels(city.get_xticklabels(), rotation=30, ha=\"right\")\n",
    "\n",
    "address = sns.barplot(ax=ax[1,1],x=data_address_type['Address Type'],y=data_address_type.Percentage,)\n",
    "address.set_xticklabels(address.get_xticklabels(), rotation=30, ha=\"right\")\n",
    "\n",
    "\n",
    "#plt.subplots_adjust(left=None, bottom=None, right=None, top=0.0, wspace=None, hspace=None)\n",
    "plt.tight_layout()"
   ]
  },
  {
   "cell_type": "markdown",
   "id": "5770921c",
   "metadata": {},
   "source": [
    "So it is obvious that the Loud Music/party causes the biggest problem for the citizens. And it seems most complaints occur at Street/Sidewalk. And 'Brooklyn' faces the largest problems among all other cities. However, we have mostly solid information.  The place where the problem occurs is pinpointed (Proper Address).\n",
    "\n",
    "These observations are very preliminary. One can expect or guess the outcomes from these visualizations, regarding the corresponding features. However, it needs to be realized that we can not infer/predict from here without any proper statistical explanation."
   ]
  },
  {
   "cell_type": "markdown",
   "id": "676e996d",
   "metadata": {},
   "source": [
    "Now, let's convert the time data ('timedelta64') into integer and store them (converting into hours) in a new column. Besides that let us cut the ambiguous data."
   ]
  },
  {
   "cell_type": "code",
   "execution_count": 77,
   "id": "7bbe5c8b",
   "metadata": {},
   "outputs": [
    {
     "ename": "TypeError",
     "evalue": "float() argument must be a string or a number, not 'Timedelta'",
     "output_type": "error",
     "traceback": [
      "\u001b[1;31m---------------------------------------------------------------------------\u001b[0m",
      "\u001b[1;31mTypeError\u001b[0m                                 Traceback (most recent call last)",
      "Input \u001b[1;32mIn [77]\u001b[0m, in \u001b[0;36m<cell line: 5>\u001b[1;34m()\u001b[0m\n\u001b[0;32m      2\u001b[0m data_place_CType_RCTime\u001b[38;5;241m.\u001b[39mdropna(subset \u001b[38;5;241m=\u001b[39m [\u001b[38;5;124m'\u001b[39m\u001b[38;5;124mCity\u001b[39m\u001b[38;5;124m'\u001b[39m,\u001b[38;5;124m'\u001b[39m\u001b[38;5;124mComplaint Type\u001b[39m\u001b[38;5;124m'\u001b[39m,\u001b[38;5;124m'\u001b[39m\u001b[38;5;124mRequest_Closing_Time\u001b[39m\u001b[38;5;124m'\u001b[39m], inplace \u001b[38;5;241m=\u001b[39m \u001b[38;5;28;01mTrue\u001b[39;00m)\n\u001b[0;32m      3\u001b[0m data_place_CType_RCTime[\u001b[38;5;124m'\u001b[39m\u001b[38;5;124mDeltaT(in_hr.)\u001b[39m\u001b[38;5;124m'\u001b[39m] \u001b[38;5;241m=\u001b[39m np\u001b[38;5;241m.\u001b[39maround( (data_place_CType_RCTime[\u001b[38;5;124m'\u001b[39m\u001b[38;5;124mRequest_Closing_Time\u001b[39m\u001b[38;5;124m'\u001b[39m]\u001b[38;5;241m.\u001b[39mastype(np\u001b[38;5;241m.\u001b[39mint64)\u001b[38;5;241m/\u001b[39m\n\u001b[0;32m      4\u001b[0m                                                       (\u001b[38;5;28mpow\u001b[39m(\u001b[38;5;241m10\u001b[39m,\u001b[38;5;241m9\u001b[39m)\u001b[38;5;241m*\u001b[39m\u001b[38;5;241m3600\u001b[39m) ), decimals\u001b[38;5;241m=\u001b[39m\u001b[38;5;241m2\u001b[39m)\n\u001b[1;32m----> 5\u001b[0m neg_time \u001b[38;5;241m=\u001b[39m \u001b[43mdata_place_CType_RCTime\u001b[49m\u001b[43m[\u001b[49m\u001b[43mdata_place_CType_RCTime\u001b[49m\u001b[43m[\u001b[49m\u001b[38;5;124;43m'\u001b[39;49m\u001b[38;5;124;43mDeltaT(in_hr.)\u001b[39;49m\u001b[38;5;124;43m'\u001b[39;49m\u001b[43m]\u001b[49m\u001b[43m \u001b[49m\u001b[38;5;241;43m<\u001b[39;49m\u001b[43m \u001b[49m\u001b[38;5;241;43m0\u001b[39;49m\u001b[43m]\u001b[49m\u001b[38;5;241;43m.\u001b[39;49m\u001b[43msum\u001b[49m\u001b[43m(\u001b[49m\u001b[43m)\u001b[49m\n\u001b[0;32m      6\u001b[0m \u001b[38;5;28mprint\u001b[39m(\u001b[38;5;124m'\u001b[39m\u001b[38;5;124mThe no negative time difference (Created Time > Clossing Time, which is not possible) = \u001b[39m\u001b[38;5;130;01m\\n\u001b[39;00m\u001b[38;5;124m'\u001b[39m,neg_time)\n\u001b[0;32m      7\u001b[0m \u001b[38;5;66;03m#data_place_CType_RCTime['DeltaT(in sec)/Avg.'] = np.around((data_place_CType_RCTime['DeltaT(in sec)']/Avarage_time),decimals=1)\u001b[39;00m\n",
      "File \u001b[1;32m~\\anaconda3\\lib\\site-packages\\pandas\\core\\generic.py:11067\u001b[0m, in \u001b[0;36mNDFrame._add_numeric_operations.<locals>.sum\u001b[1;34m(self, axis, skipna, level, numeric_only, min_count, **kwargs)\u001b[0m\n\u001b[0;32m  11047\u001b[0m \u001b[38;5;129m@doc\u001b[39m(\n\u001b[0;32m  11048\u001b[0m     _num_doc,\n\u001b[0;32m  11049\u001b[0m     desc\u001b[38;5;241m=\u001b[39m\u001b[38;5;124m\"\u001b[39m\u001b[38;5;124mReturn the sum of the values over the requested axis.\u001b[39m\u001b[38;5;130;01m\\n\u001b[39;00m\u001b[38;5;130;01m\\n\u001b[39;00m\u001b[38;5;124m\"\u001b[39m\n\u001b[1;32m   (...)\u001b[0m\n\u001b[0;32m  11065\u001b[0m     \u001b[38;5;241m*\u001b[39m\u001b[38;5;241m*\u001b[39mkwargs,\n\u001b[0;32m  11066\u001b[0m ):\n\u001b[1;32m> 11067\u001b[0m     \u001b[38;5;28;01mreturn\u001b[39;00m NDFrame\u001b[38;5;241m.\u001b[39msum(\n\u001b[0;32m  11068\u001b[0m         \u001b[38;5;28mself\u001b[39m, axis, skipna, level, numeric_only, min_count, \u001b[38;5;241m*\u001b[39m\u001b[38;5;241m*\u001b[39mkwargs\n\u001b[0;32m  11069\u001b[0m     )\n",
      "File \u001b[1;32m~\\anaconda3\\lib\\site-packages\\pandas\\core\\generic.py:10787\u001b[0m, in \u001b[0;36mNDFrame.sum\u001b[1;34m(self, axis, skipna, level, numeric_only, min_count, **kwargs)\u001b[0m\n\u001b[0;32m  10778\u001b[0m \u001b[38;5;28;01mdef\u001b[39;00m \u001b[38;5;21msum\u001b[39m(\n\u001b[0;32m  10779\u001b[0m     \u001b[38;5;28mself\u001b[39m,\n\u001b[0;32m  10780\u001b[0m     axis: Axis \u001b[38;5;241m|\u001b[39m \u001b[38;5;28;01mNone\u001b[39;00m \u001b[38;5;241m=\u001b[39m \u001b[38;5;28;01mNone\u001b[39;00m,\n\u001b[1;32m   (...)\u001b[0m\n\u001b[0;32m  10785\u001b[0m     \u001b[38;5;241m*\u001b[39m\u001b[38;5;241m*\u001b[39mkwargs,\n\u001b[0;32m  10786\u001b[0m ):\n\u001b[1;32m> 10787\u001b[0m     \u001b[38;5;28;01mreturn\u001b[39;00m \u001b[38;5;28mself\u001b[39m\u001b[38;5;241m.\u001b[39m_min_count_stat_function(\n\u001b[0;32m  10788\u001b[0m         \u001b[38;5;124m\"\u001b[39m\u001b[38;5;124msum\u001b[39m\u001b[38;5;124m\"\u001b[39m, nanops\u001b[38;5;241m.\u001b[39mnansum, axis, skipna, level, numeric_only, min_count, \u001b[38;5;241m*\u001b[39m\u001b[38;5;241m*\u001b[39mkwargs\n\u001b[0;32m  10789\u001b[0m     )\n",
      "File \u001b[1;32m~\\anaconda3\\lib\\site-packages\\pandas\\core\\generic.py:10769\u001b[0m, in \u001b[0;36mNDFrame._min_count_stat_function\u001b[1;34m(self, name, func, axis, skipna, level, numeric_only, min_count, **kwargs)\u001b[0m\n\u001b[0;32m  10753\u001b[0m     warnings\u001b[38;5;241m.\u001b[39mwarn(\n\u001b[0;32m  10754\u001b[0m         \u001b[38;5;124m\"\u001b[39m\u001b[38;5;124mUsing the level keyword in DataFrame and Series aggregations is \u001b[39m\u001b[38;5;124m\"\u001b[39m\n\u001b[0;32m  10755\u001b[0m         \u001b[38;5;124m\"\u001b[39m\u001b[38;5;124mdeprecated and will be removed in a future version. Use groupby \u001b[39m\u001b[38;5;124m\"\u001b[39m\n\u001b[1;32m   (...)\u001b[0m\n\u001b[0;32m  10758\u001b[0m         stacklevel\u001b[38;5;241m=\u001b[39mfind_stack_level(),\n\u001b[0;32m  10759\u001b[0m     )\n\u001b[0;32m  10760\u001b[0m     \u001b[38;5;28;01mreturn\u001b[39;00m \u001b[38;5;28mself\u001b[39m\u001b[38;5;241m.\u001b[39m_agg_by_level(\n\u001b[0;32m  10761\u001b[0m         name,\n\u001b[0;32m  10762\u001b[0m         axis\u001b[38;5;241m=\u001b[39maxis,\n\u001b[1;32m   (...)\u001b[0m\n\u001b[0;32m  10766\u001b[0m         numeric_only\u001b[38;5;241m=\u001b[39mnumeric_only,\n\u001b[0;32m  10767\u001b[0m     )\n\u001b[1;32m> 10769\u001b[0m \u001b[38;5;28;01mreturn\u001b[39;00m \u001b[38;5;28;43mself\u001b[39;49m\u001b[38;5;241;43m.\u001b[39;49m\u001b[43m_reduce\u001b[49m\u001b[43m(\u001b[49m\n\u001b[0;32m  10770\u001b[0m \u001b[43m    \u001b[49m\u001b[43mfunc\u001b[49m\u001b[43m,\u001b[49m\n\u001b[0;32m  10771\u001b[0m \u001b[43m    \u001b[49m\u001b[43mname\u001b[49m\u001b[38;5;241;43m=\u001b[39;49m\u001b[43mname\u001b[49m\u001b[43m,\u001b[49m\n\u001b[0;32m  10772\u001b[0m \u001b[43m    \u001b[49m\u001b[43maxis\u001b[49m\u001b[38;5;241;43m=\u001b[39;49m\u001b[43maxis\u001b[49m\u001b[43m,\u001b[49m\n\u001b[0;32m  10773\u001b[0m \u001b[43m    \u001b[49m\u001b[43mskipna\u001b[49m\u001b[38;5;241;43m=\u001b[39;49m\u001b[43mskipna\u001b[49m\u001b[43m,\u001b[49m\n\u001b[0;32m  10774\u001b[0m \u001b[43m    \u001b[49m\u001b[43mnumeric_only\u001b[49m\u001b[38;5;241;43m=\u001b[39;49m\u001b[43mnumeric_only\u001b[49m\u001b[43m,\u001b[49m\n\u001b[0;32m  10775\u001b[0m \u001b[43m    \u001b[49m\u001b[43mmin_count\u001b[49m\u001b[38;5;241;43m=\u001b[39;49m\u001b[43mmin_count\u001b[49m\u001b[43m,\u001b[49m\n\u001b[0;32m  10776\u001b[0m \u001b[43m\u001b[49m\u001b[43m)\u001b[49m\n",
      "File \u001b[1;32m~\\anaconda3\\lib\\site-packages\\pandas\\core\\frame.py:10021\u001b[0m, in \u001b[0;36mDataFrame._reduce\u001b[1;34m(self, op, name, axis, skipna, numeric_only, filter_type, **kwds)\u001b[0m\n\u001b[0;32m  10017\u001b[0m     out \u001b[38;5;241m=\u001b[39m out\u001b[38;5;241m.\u001b[39mastype(out_dtype)\n\u001b[0;32m  10018\u001b[0m \u001b[38;5;28;01mif\u001b[39;00m axis \u001b[38;5;241m==\u001b[39m \u001b[38;5;241m0\u001b[39m \u001b[38;5;129;01mand\u001b[39;00m \u001b[38;5;28mlen\u001b[39m(\u001b[38;5;28mself\u001b[39m) \u001b[38;5;241m==\u001b[39m \u001b[38;5;241m0\u001b[39m \u001b[38;5;129;01mand\u001b[39;00m name \u001b[38;5;129;01min\u001b[39;00m [\u001b[38;5;124m\"\u001b[39m\u001b[38;5;124msum\u001b[39m\u001b[38;5;124m\"\u001b[39m, \u001b[38;5;124m\"\u001b[39m\u001b[38;5;124mprod\u001b[39m\u001b[38;5;124m\"\u001b[39m]:\n\u001b[0;32m  10019\u001b[0m     \u001b[38;5;66;03m# Even if we are object dtype, follow numpy and return\u001b[39;00m\n\u001b[0;32m  10020\u001b[0m     \u001b[38;5;66;03m#  float64, see test_apply_funcs_over_empty\u001b[39;00m\n\u001b[1;32m> 10021\u001b[0m     out \u001b[38;5;241m=\u001b[39m \u001b[43mout\u001b[49m\u001b[38;5;241;43m.\u001b[39;49m\u001b[43mastype\u001b[49m\u001b[43m(\u001b[49m\u001b[43mnp\u001b[49m\u001b[38;5;241;43m.\u001b[39;49m\u001b[43mfloat64\u001b[49m\u001b[43m)\u001b[49m\n\u001b[0;32m  10023\u001b[0m \u001b[38;5;28;01mif\u001b[39;00m numeric_only \u001b[38;5;129;01mis\u001b[39;00m \u001b[38;5;28;01mNone\u001b[39;00m \u001b[38;5;129;01mand\u001b[39;00m out\u001b[38;5;241m.\u001b[39mshape[\u001b[38;5;241m0\u001b[39m] \u001b[38;5;241m!=\u001b[39m df\u001b[38;5;241m.\u001b[39mshape[\u001b[38;5;241m1\u001b[39m]:\n\u001b[0;32m  10024\u001b[0m     \u001b[38;5;66;03m# columns have been dropped GH#41480\u001b[39;00m\n\u001b[0;32m  10025\u001b[0m     arg_name \u001b[38;5;241m=\u001b[39m \u001b[38;5;124m\"\u001b[39m\u001b[38;5;124mnumeric_only\u001b[39m\u001b[38;5;124m\"\u001b[39m\n",
      "File \u001b[1;32m~\\anaconda3\\lib\\site-packages\\pandas\\core\\generic.py:5912\u001b[0m, in \u001b[0;36mNDFrame.astype\u001b[1;34m(self, dtype, copy, errors)\u001b[0m\n\u001b[0;32m   5905\u001b[0m     results \u001b[38;5;241m=\u001b[39m [\n\u001b[0;32m   5906\u001b[0m         \u001b[38;5;28mself\u001b[39m\u001b[38;5;241m.\u001b[39miloc[:, i]\u001b[38;5;241m.\u001b[39mastype(dtype, copy\u001b[38;5;241m=\u001b[39mcopy)\n\u001b[0;32m   5907\u001b[0m         \u001b[38;5;28;01mfor\u001b[39;00m i \u001b[38;5;129;01min\u001b[39;00m \u001b[38;5;28mrange\u001b[39m(\u001b[38;5;28mlen\u001b[39m(\u001b[38;5;28mself\u001b[39m\u001b[38;5;241m.\u001b[39mcolumns))\n\u001b[0;32m   5908\u001b[0m     ]\n\u001b[0;32m   5910\u001b[0m \u001b[38;5;28;01melse\u001b[39;00m:\n\u001b[0;32m   5911\u001b[0m     \u001b[38;5;66;03m# else, only a single dtype is given\u001b[39;00m\n\u001b[1;32m-> 5912\u001b[0m     new_data \u001b[38;5;241m=\u001b[39m \u001b[38;5;28;43mself\u001b[39;49m\u001b[38;5;241;43m.\u001b[39;49m\u001b[43m_mgr\u001b[49m\u001b[38;5;241;43m.\u001b[39;49m\u001b[43mastype\u001b[49m\u001b[43m(\u001b[49m\u001b[43mdtype\u001b[49m\u001b[38;5;241;43m=\u001b[39;49m\u001b[43mdtype\u001b[49m\u001b[43m,\u001b[49m\u001b[43m \u001b[49m\u001b[43mcopy\u001b[49m\u001b[38;5;241;43m=\u001b[39;49m\u001b[43mcopy\u001b[49m\u001b[43m,\u001b[49m\u001b[43m \u001b[49m\u001b[43merrors\u001b[49m\u001b[38;5;241;43m=\u001b[39;49m\u001b[43merrors\u001b[49m\u001b[43m)\u001b[49m\n\u001b[0;32m   5913\u001b[0m     \u001b[38;5;28;01mreturn\u001b[39;00m \u001b[38;5;28mself\u001b[39m\u001b[38;5;241m.\u001b[39m_constructor(new_data)\u001b[38;5;241m.\u001b[39m__finalize__(\u001b[38;5;28mself\u001b[39m, method\u001b[38;5;241m=\u001b[39m\u001b[38;5;124m\"\u001b[39m\u001b[38;5;124mastype\u001b[39m\u001b[38;5;124m\"\u001b[39m)\n\u001b[0;32m   5915\u001b[0m \u001b[38;5;66;03m# GH 33113: handle empty frame or series\u001b[39;00m\n",
      "File \u001b[1;32m~\\anaconda3\\lib\\site-packages\\pandas\\core\\internals\\managers.py:419\u001b[0m, in \u001b[0;36mBaseBlockManager.astype\u001b[1;34m(self, dtype, copy, errors)\u001b[0m\n\u001b[0;32m    418\u001b[0m \u001b[38;5;28;01mdef\u001b[39;00m \u001b[38;5;21mastype\u001b[39m(\u001b[38;5;28mself\u001b[39m: T, dtype, copy: \u001b[38;5;28mbool\u001b[39m \u001b[38;5;241m=\u001b[39m \u001b[38;5;28;01mFalse\u001b[39;00m, errors: \u001b[38;5;28mstr\u001b[39m \u001b[38;5;241m=\u001b[39m \u001b[38;5;124m\"\u001b[39m\u001b[38;5;124mraise\u001b[39m\u001b[38;5;124m\"\u001b[39m) \u001b[38;5;241m-\u001b[39m\u001b[38;5;241m>\u001b[39m T:\n\u001b[1;32m--> 419\u001b[0m     \u001b[38;5;28;01mreturn\u001b[39;00m \u001b[38;5;28;43mself\u001b[39;49m\u001b[38;5;241;43m.\u001b[39;49m\u001b[43mapply\u001b[49m\u001b[43m(\u001b[49m\u001b[38;5;124;43m\"\u001b[39;49m\u001b[38;5;124;43mastype\u001b[39;49m\u001b[38;5;124;43m\"\u001b[39;49m\u001b[43m,\u001b[49m\u001b[43m \u001b[49m\u001b[43mdtype\u001b[49m\u001b[38;5;241;43m=\u001b[39;49m\u001b[43mdtype\u001b[49m\u001b[43m,\u001b[49m\u001b[43m \u001b[49m\u001b[43mcopy\u001b[49m\u001b[38;5;241;43m=\u001b[39;49m\u001b[43mcopy\u001b[49m\u001b[43m,\u001b[49m\u001b[43m \u001b[49m\u001b[43merrors\u001b[49m\u001b[38;5;241;43m=\u001b[39;49m\u001b[43merrors\u001b[49m\u001b[43m)\u001b[49m\n",
      "File \u001b[1;32m~\\anaconda3\\lib\\site-packages\\pandas\\core\\internals\\managers.py:304\u001b[0m, in \u001b[0;36mBaseBlockManager.apply\u001b[1;34m(self, f, align_keys, ignore_failures, **kwargs)\u001b[0m\n\u001b[0;32m    302\u001b[0m         applied \u001b[38;5;241m=\u001b[39m b\u001b[38;5;241m.\u001b[39mapply(f, \u001b[38;5;241m*\u001b[39m\u001b[38;5;241m*\u001b[39mkwargs)\n\u001b[0;32m    303\u001b[0m     \u001b[38;5;28;01melse\u001b[39;00m:\n\u001b[1;32m--> 304\u001b[0m         applied \u001b[38;5;241m=\u001b[39m \u001b[38;5;28mgetattr\u001b[39m(b, f)(\u001b[38;5;241m*\u001b[39m\u001b[38;5;241m*\u001b[39mkwargs)\n\u001b[0;32m    305\u001b[0m \u001b[38;5;28;01mexcept\u001b[39;00m (\u001b[38;5;167;01mTypeError\u001b[39;00m, \u001b[38;5;167;01mNotImplementedError\u001b[39;00m):\n\u001b[0;32m    306\u001b[0m     \u001b[38;5;28;01mif\u001b[39;00m \u001b[38;5;129;01mnot\u001b[39;00m ignore_failures:\n",
      "File \u001b[1;32m~\\anaconda3\\lib\\site-packages\\pandas\\core\\internals\\blocks.py:580\u001b[0m, in \u001b[0;36mBlock.astype\u001b[1;34m(self, dtype, copy, errors)\u001b[0m\n\u001b[0;32m    562\u001b[0m \u001b[38;5;124;03m\"\"\"\u001b[39;00m\n\u001b[0;32m    563\u001b[0m \u001b[38;5;124;03mCoerce to the new dtype.\u001b[39;00m\n\u001b[0;32m    564\u001b[0m \n\u001b[1;32m   (...)\u001b[0m\n\u001b[0;32m    576\u001b[0m \u001b[38;5;124;03mBlock\u001b[39;00m\n\u001b[0;32m    577\u001b[0m \u001b[38;5;124;03m\"\"\"\u001b[39;00m\n\u001b[0;32m    578\u001b[0m values \u001b[38;5;241m=\u001b[39m \u001b[38;5;28mself\u001b[39m\u001b[38;5;241m.\u001b[39mvalues\n\u001b[1;32m--> 580\u001b[0m new_values \u001b[38;5;241m=\u001b[39m \u001b[43mastype_array_safe\u001b[49m\u001b[43m(\u001b[49m\u001b[43mvalues\u001b[49m\u001b[43m,\u001b[49m\u001b[43m \u001b[49m\u001b[43mdtype\u001b[49m\u001b[43m,\u001b[49m\u001b[43m \u001b[49m\u001b[43mcopy\u001b[49m\u001b[38;5;241;43m=\u001b[39;49m\u001b[43mcopy\u001b[49m\u001b[43m,\u001b[49m\u001b[43m \u001b[49m\u001b[43merrors\u001b[49m\u001b[38;5;241;43m=\u001b[39;49m\u001b[43merrors\u001b[49m\u001b[43m)\u001b[49m\n\u001b[0;32m    582\u001b[0m new_values \u001b[38;5;241m=\u001b[39m maybe_coerce_values(new_values)\n\u001b[0;32m    583\u001b[0m newb \u001b[38;5;241m=\u001b[39m \u001b[38;5;28mself\u001b[39m\u001b[38;5;241m.\u001b[39mmake_block(new_values)\n",
      "File \u001b[1;32m~\\anaconda3\\lib\\site-packages\\pandas\\core\\dtypes\\cast.py:1292\u001b[0m, in \u001b[0;36mastype_array_safe\u001b[1;34m(values, dtype, copy, errors)\u001b[0m\n\u001b[0;32m   1289\u001b[0m     dtype \u001b[38;5;241m=\u001b[39m dtype\u001b[38;5;241m.\u001b[39mnumpy_dtype\n\u001b[0;32m   1291\u001b[0m \u001b[38;5;28;01mtry\u001b[39;00m:\n\u001b[1;32m-> 1292\u001b[0m     new_values \u001b[38;5;241m=\u001b[39m \u001b[43mastype_array\u001b[49m\u001b[43m(\u001b[49m\u001b[43mvalues\u001b[49m\u001b[43m,\u001b[49m\u001b[43m \u001b[49m\u001b[43mdtype\u001b[49m\u001b[43m,\u001b[49m\u001b[43m \u001b[49m\u001b[43mcopy\u001b[49m\u001b[38;5;241;43m=\u001b[39;49m\u001b[43mcopy\u001b[49m\u001b[43m)\u001b[49m\n\u001b[0;32m   1293\u001b[0m \u001b[38;5;28;01mexcept\u001b[39;00m (\u001b[38;5;167;01mValueError\u001b[39;00m, \u001b[38;5;167;01mTypeError\u001b[39;00m):\n\u001b[0;32m   1294\u001b[0m     \u001b[38;5;66;03m# e.g. astype_nansafe can fail on object-dtype of strings\u001b[39;00m\n\u001b[0;32m   1295\u001b[0m     \u001b[38;5;66;03m#  trying to convert to float\u001b[39;00m\n\u001b[0;32m   1296\u001b[0m     \u001b[38;5;28;01mif\u001b[39;00m errors \u001b[38;5;241m==\u001b[39m \u001b[38;5;124m\"\u001b[39m\u001b[38;5;124mignore\u001b[39m\u001b[38;5;124m\"\u001b[39m:\n",
      "File \u001b[1;32m~\\anaconda3\\lib\\site-packages\\pandas\\core\\dtypes\\cast.py:1237\u001b[0m, in \u001b[0;36mastype_array\u001b[1;34m(values, dtype, copy)\u001b[0m\n\u001b[0;32m   1234\u001b[0m     values \u001b[38;5;241m=\u001b[39m values\u001b[38;5;241m.\u001b[39mastype(dtype, copy\u001b[38;5;241m=\u001b[39mcopy)\n\u001b[0;32m   1236\u001b[0m \u001b[38;5;28;01melse\u001b[39;00m:\n\u001b[1;32m-> 1237\u001b[0m     values \u001b[38;5;241m=\u001b[39m \u001b[43mastype_nansafe\u001b[49m\u001b[43m(\u001b[49m\u001b[43mvalues\u001b[49m\u001b[43m,\u001b[49m\u001b[43m \u001b[49m\u001b[43mdtype\u001b[49m\u001b[43m,\u001b[49m\u001b[43m \u001b[49m\u001b[43mcopy\u001b[49m\u001b[38;5;241;43m=\u001b[39;49m\u001b[43mcopy\u001b[49m\u001b[43m)\u001b[49m\n\u001b[0;32m   1239\u001b[0m \u001b[38;5;66;03m# in pandas we don't store numpy str dtypes, so convert to object\u001b[39;00m\n\u001b[0;32m   1240\u001b[0m \u001b[38;5;28;01mif\u001b[39;00m \u001b[38;5;28misinstance\u001b[39m(dtype, np\u001b[38;5;241m.\u001b[39mdtype) \u001b[38;5;129;01mand\u001b[39;00m \u001b[38;5;28missubclass\u001b[39m(values\u001b[38;5;241m.\u001b[39mdtype\u001b[38;5;241m.\u001b[39mtype, \u001b[38;5;28mstr\u001b[39m):\n",
      "File \u001b[1;32m~\\anaconda3\\lib\\site-packages\\pandas\\core\\dtypes\\cast.py:1181\u001b[0m, in \u001b[0;36mastype_nansafe\u001b[1;34m(arr, dtype, copy, skipna)\u001b[0m\n\u001b[0;32m   1177\u001b[0m     \u001b[38;5;28;01mraise\u001b[39;00m \u001b[38;5;167;01mValueError\u001b[39;00m(msg)\n\u001b[0;32m   1179\u001b[0m \u001b[38;5;28;01mif\u001b[39;00m copy \u001b[38;5;129;01mor\u001b[39;00m is_object_dtype(arr\u001b[38;5;241m.\u001b[39mdtype) \u001b[38;5;129;01mor\u001b[39;00m is_object_dtype(dtype):\n\u001b[0;32m   1180\u001b[0m     \u001b[38;5;66;03m# Explicit copy, or required since NumPy can't view from / to object.\u001b[39;00m\n\u001b[1;32m-> 1181\u001b[0m     \u001b[38;5;28;01mreturn\u001b[39;00m \u001b[43marr\u001b[49m\u001b[38;5;241;43m.\u001b[39;49m\u001b[43mastype\u001b[49m\u001b[43m(\u001b[49m\u001b[43mdtype\u001b[49m\u001b[43m,\u001b[49m\u001b[43m \u001b[49m\u001b[43mcopy\u001b[49m\u001b[38;5;241;43m=\u001b[39;49m\u001b[38;5;28;43;01mTrue\u001b[39;49;00m\u001b[43m)\u001b[49m\n\u001b[0;32m   1183\u001b[0m \u001b[38;5;28;01mreturn\u001b[39;00m arr\u001b[38;5;241m.\u001b[39mastype(dtype, copy\u001b[38;5;241m=\u001b[39mcopy)\n",
      "\u001b[1;31mTypeError\u001b[0m: float() argument must be a string or a number, not 'Timedelta'"
     ]
    }
   ],
   "source": [
    "data_place_CType_RCTime = data_mod[['City','Complaint Type','Request_Closing_Time']]\n",
    "data_place_CType_RCTime.dropna(subset = ['City','Complaint Type','Request_Closing_Time'], inplace = True)\n",
    "data_place_CType_RCTime['DeltaT(in_hr.)'] = np.around( (data_place_CType_RCTime['Request_Closing_Time'].astype(np.int64)/\n",
    "                                                      (pow(10,9)*3600) ), decimals=2)\n",
    "neg_time = data_place_CType_RCTime[data_place_CType_RCTime['DeltaT(in_hr.)'] < 0].sum()\n",
    "print('The no negative time difference (Created Time > Clossing Time, which is not possible) = \\n',neg_time)\n",
    "#data_place_CType_RCTime['DeltaT(in sec)/Avg.'] = np.around((data_place_CType_RCTime['DeltaT(in sec)']/Avarage_time),decimals=1)\n",
    "data_place_CType_RCTime.head(6)"
   ]
  },
  {
   "cell_type": "code",
   "execution_count": null,
   "id": "503ece75",
   "metadata": {},
   "outputs": [],
   "source": [
    "Avarage_time = np.around((data_place_CType_RCTime['DeltaT(in_hr.)'].mean()),decimals=2)\n",
    "print('Avarage time gap between logging the complaint and problem solved = ',Avarage_time, 'hour')\n",
    "Central_val = np.around((data_place_CType_RCTime['DeltaT(in_hr.)'].median()),decimals=2)\n",
    "print('Central value of the distribution = ',Central_val, 'hour')\n",
    "Most_occoor = np.around((data_place_CType_RCTime['DeltaT(in_hr.)'].mode()),decimals=2)\n",
    "print('Most occered value = ',Most_occoor, 'hour')\n",
    "stand_dev = np.around((data_place_CType_RCTime['DeltaT(in_hr.)'].std()),decimals=2)\n",
    "print('Deviation is = ',stand_dev)"
   ]
  },
  {
   "cell_type": "markdown",
   "id": "73a36be6",
   "metadata": {},
   "source": [
    "So, one can take the central value as the normal time taken to solve the problem/issue. However, as it is clear from the deviation that it spreads around 6 hr.(more than the central value) from the distribution, so it is more practical to choose average time as the normal time to solve the problem. And categorize time interval as per the codes written below. "
   ]
  },
  {
   "cell_type": "code",
   "execution_count": null,
   "id": "5b19fda1",
   "metadata": {},
   "outputs": [],
   "source": [
    "conditions = [data_place_CType_RCTime['DeltaT(in_hr.)'] <= 0.5, \n",
    "             (0.50 < data_place_CType_RCTime['DeltaT(in_hr.)']) & (data_place_CType_RCTime['DeltaT(in_hr.)'] <= 1.00),\n",
    "             (1.00 < data_place_CType_RCTime['DeltaT(in_hr.)']) & (data_place_CType_RCTime['DeltaT(in_hr.)'] <= 2.00),\n",
    "             (2.00 < data_place_CType_RCTime['DeltaT(in_hr.)']) & (data_place_CType_RCTime['DeltaT(in_hr.)'] <= 6.00),\n",
    "             (6.00 < data_place_CType_RCTime['DeltaT(in_hr.)']) & (data_place_CType_RCTime['DeltaT(in_hr.)'] <= 10.00),\n",
    "             (10.00 < data_place_CType_RCTime['DeltaT(in_hr.)'])]\n",
    "\n",
    "choices = ['Super fast','Very fast','Fast','Normal','Slow','Super Slow']\n",
    "\n",
    "data_place_CType_RCTime['Solution Status'] = np.select(conditions,choices)"
   ]
  },
  {
   "cell_type": "code",
   "execution_count": null,
   "id": "2cf45b37",
   "metadata": {},
   "outputs": [],
   "source": [
    "data_place_CType_RCTime.head(6)"
   ]
  },
  {
   "cell_type": "code",
   "execution_count": null,
   "id": "c88365ad",
   "metadata": {},
   "outputs": [],
   "source": [
    "data_place_CType_RCTime['Solution Status'].value_counts()"
   ]
  },
  {
   "cell_type": "code",
   "execution_count": null,
   "id": "3ceff865",
   "metadata": {},
   "outputs": [],
   "source": [
    "data_place_CType_RCTime['Solution Status'].value_counts().plot(kind='bar')\n",
    "plt.xlabel('Time Status')\n",
    "plt.ylabel('Counts')\n",
    "plt.title('Proportion of the fastness of different Solution status')\n",
    "plt.show()\n",
    "plt.tight_layout()"
   ]
  },
  {
   "cell_type": "markdown",
   "id": "651a83f1",
   "metadata": {},
   "source": [
    "Based on the above-discussed approximation, the proportion of the time interval (expressed in different groups/status) to solve the problem, is depicted here. And it is obvious that the 'Normal' status will dominant since the range is chosen around the average value.\n",
    "\n",
    "Now, let's see, is there any pattern for lodging a complaint?\n",
    "\n",
    "Does it depend on a particular day or is there any month where too much or fewer problems are recorded?"
   ]
  },
  {
   "cell_type": "code",
   "execution_count": null,
   "id": "e124971e",
   "metadata": {},
   "outputs": [],
   "source": [
    "data_mod['Created Date'].head(5)"
   ]
  },
  {
   "cell_type": "code",
   "execution_count": null,
   "id": "d8e7fe3c",
   "metadata": {},
   "outputs": [],
   "source": [
    "# Creating a data frame Contain Days and Months of Complaint date\n",
    "\n",
    "Year_Month_Day = pd.to_datetime(data_mod['Created Date'].dt.date)\n",
    "Month_Day = pd.DataFrame()\n",
    "Month_Day['Date'] = pd.to_datetime(Year_Month_Day.dt.date)\n",
    "Month_Day['Month'] = Year_Month_Day.dt.month\n",
    "Month_Day['Day'] = Year_Month_Day.dt.day\n",
    "Month_Day['Month Name'] = Month_Day['Month'].apply(lambda x: calendar.month_abbr[x])\n",
    "Month_Day['Day No'] = Month_Day['Date'].dt.weekday\n",
    "Month_Day['Day Name'] = Month_Day['Day No'].map({0:'Monday',1:'Tuesday',2:'Wednesday',3:'Thursday',4:'Friday',\n",
    "                                                 5:'Saturday',6:'Sunday'})\n",
    "Month_Day.sample(20)"
   ]
  },
  {
   "cell_type": "code",
   "execution_count": null,
   "id": "80a3ae2a",
   "metadata": {},
   "outputs": [],
   "source": [
    "Month_plot = Month_Day['Month Name'].value_counts()\n",
    "Month_plot = Month_plot.to_frame()\n",
    "Month_plot = Month_plot.rename(columns={'Month Name':'Counts'})\n",
    "Month_plot"
   ]
  },
  {
   "cell_type": "code",
   "execution_count": null,
   "id": "f21acb4f",
   "metadata": {},
   "outputs": [],
   "source": [
    "Day_plot = Month_Day['Day Name'].value_counts()\n",
    "Day_plot = Day_plot.to_frame()\n",
    "Day_plot = Day_plot.rename(columns={'Day Name':'Counts'})\n",
    "Day_plot"
   ]
  },
  {
   "cell_type": "code",
   "execution_count": null,
   "id": "ef0aa711",
   "metadata": {},
   "outputs": [],
   "source": [
    "fig, axes = plt.subplots(1,2, figsize=(14,8))\n",
    "\n",
    "axes[0].pie(Month_plot['Counts'], labels = Month_plot.index,autopct='%1.1f%%')\n",
    "axes[0].set_title('Complain logged in different months of the year')\n",
    "\n",
    "axes[1].pie(Day_plot['Counts'], labels = Day_plot.index,autopct='%1.1f%%')\n",
    "axes[1].set_title('Complain logged in different days of the year')\n",
    "\n",
    "plt.tight_layout()"
   ]
  },
  {
   "cell_type": "markdown",
   "id": "78606d9b",
   "metadata": {},
   "source": [
    "So there is nothing abrupt for the months of lodging complaint. However, a very small amount of complaints recorded in the month of March.\n",
    "\n",
    "The same observation can be made for the days. But if we look carefully, there is a small increment on the weekends compared to the weekly days. \n",
    "\n",
    "However, looking at the days of a year might hide some extra information. It is better to check the days of each month of the year."
   ]
  },
  {
   "cell_type": "code",
   "execution_count": null,
   "id": "3bda1f00",
   "metadata": {},
   "outputs": [],
   "source": [
    "Month_Day_grouped = Month_Day.groupby(['Month Name','Day Name'],as_index=False)['Day No'].count()\n",
    "Month_Day_grouped_final = Month_Day_grouped.rename(columns={'Day No':'Counts'})\n",
    "Month_Day_grouped_final.head(15)"
   ]
  },
  {
   "cell_type": "code",
   "execution_count": null,
   "id": "3b2e5ab5",
   "metadata": {},
   "outputs": [],
   "source": [
    "Month_Day[( (Month_Day['Month Name'] == 'Apr') & (Month_Day['Day Name'] == 'Monday') )].count()"
   ]
  },
  {
   "cell_type": "markdown",
   "id": "ea9eee19",
   "metadata": {},
   "source": [
    "This is just to check whether the grouping operation is done correctly or not.\n",
    "\n",
    "\n",
    "As you can see below, complaints created in each month for all seven days of the week are plotted. As we already counter that in March there is an abrupt decrement of complaint lodging compared to the other months. And Only three days of a week contributed here. It may contain seven days of the week, but with a very lesser amount. So let's check that to as well from the numbers."
   ]
  },
  {
   "cell_type": "code",
   "execution_count": null,
   "id": "146c9820",
   "metadata": {},
   "outputs": [],
   "source": [
    "plt.figure(figsize=(20,8))\n",
    "\n",
    "month_day_plot = sns.barplot(x=Month_Day_grouped_final['Month Name'], y=Month_Day_grouped_final['Counts'], \n",
    "                             hue=Month_Day_grouped_final['Day Name'], data=Month_Day_grouped_final)\n",
    "month_day_plot.set_xticklabels(month_day_plot.get_xticklabels(), rotation=30, ha=\"right\")\n",
    "plt.title('Distribution of daily complain in different months of the year')\n",
    "plt.show()\n",
    "plt.tight_layout()"
   ]
  },
  {
   "cell_type": "code",
   "execution_count": null,
   "id": "f6020706",
   "metadata": {},
   "outputs": [],
   "source": [
    "Month_Day_grouped[Month_Day_grouped['Month Name'] == 'Mar']"
   ]
  },
  {
   "cell_type": "markdown",
   "id": "d2420e73",
   "metadata": {},
   "source": [
    "-  So complaints are recorded only in these three days of March.\n",
    "-  And let's have a look quickly at the status of the complaints."
   ]
  },
  {
   "cell_type": "code",
   "execution_count": null,
   "id": "c12f154e",
   "metadata": {},
   "outputs": [],
   "source": [
    "data_mod['Status'].value_counts().plot(kind='barh')\n",
    "plt.xlabel('Status')\n",
    "plt.ylabel('Counts')\n",
    "plt.title('Proportion of different Solution status')\n",
    "plt.show()\n",
    "plt.tight_layout()"
   ]
  },
  {
   "cell_type": "markdown",
   "id": "61216463",
   "metadata": {},
   "source": [
    "### 5. Perform a statistical test for the following:\n",
    "\n",
    "(For the below statements you need to state the Null and Alternate and then provide a statistical test to accept or reject the Null Hypothesis along with the corresponding ‘p-value’.)\n",
    "\n",
    " - Whether the average response time across complaint types is similar or not (overall)\n",
    " - Are the type of complaint or service requested and location related?"
   ]
  },
  {
   "cell_type": "code",
   "execution_count": null,
   "id": "aae74d3c",
   "metadata": {},
   "outputs": [],
   "source": [
    "import scipy.stats as stat"
   ]
  },
  {
   "cell_type": "markdown",
   "id": "4dc54254",
   "metadata": {},
   "source": [
    " - Whether the average response time across complaint types is similar or not (overall)"
   ]
  },
  {
   "cell_type": "code",
   "execution_count": null,
   "id": "ea766765",
   "metadata": {},
   "outputs": [],
   "source": [
    "# Average response time across complaint types \n",
    "\n",
    "Complaint_AvgTime = data_place_CType_RCTime.groupby(['Complaint Type']).agg({'DeltaT(in_hr.)':'mean'})\n",
    "Complaint_AvgTime = pd.DataFrame(Complaint_AvgTime)\n",
    "Complaint_AvgTime = Complaint_AvgTime.sort_values(['DeltaT(in_hr.)']).reset_index()\n",
    "Complaint_AvgTime"
   ]
  },
  {
   "cell_type": "markdown",
   "id": "a5a410ee",
   "metadata": {},
   "source": [
    "#### 1. T-test\n",
    "#### (a) 1-sample T-test"
   ]
  },
  {
   "cell_type": "markdown",
   "id": "99b94609",
   "metadata": {},
   "source": [
    "It is noteworthy that the value of the Avg. time due to complaint type 'Animal in a Park' quite out of the range. Let's find out the average with or without this particular complaint type."
   ]
  },
  {
   "cell_type": "code",
   "execution_count": null,
   "id": "f4ede133",
   "metadata": {},
   "outputs": [],
   "source": [
    "Tmean_without = float(Complaint_AvgTime[Complaint_AvgTime['Complaint Type']!='Animal in a Park'].mean())\n",
    "print(\"Without complaint type 'Animal in a Park' ----- \",Tmean_without)\n",
    "Tmean_with = float(Complaint_AvgTime['DeltaT(in_hr.)'].mean())\n",
    "print(\"With complaint type 'Animal in a Park' ----- \",Tmean_with)"
   ]
  },
  {
   "cell_type": "code",
   "execution_count": null,
   "id": "a2e8a7df",
   "metadata": {},
   "outputs": [],
   "source": [
    "ttest_with, pval_with = stat.ttest_1samp(Complaint_AvgTime['DeltaT(in_hr.)'], Tmean_with)\n",
    "print('T-statistic is =',ttest_with)\n",
    "print('p value is =',np.around(pval_with))"
   ]
  },
  {
   "cell_type": "code",
   "execution_count": null,
   "id": "41fb8630",
   "metadata": {},
   "outputs": [],
   "source": [
    "if (pval_with<0.05):\n",
    "    print('Null hypothesis is rejected since p value ({}) is less than 0.05'.format(np.around(pval_with,decimals=2)))\n",
    "else:\n",
    "    print('Null hypothesis is accepted since p value ({}) is greater than 0.05'.format(np.around(pval_with,decimals=2)))"
   ]
  },
  {
   "cell_type": "markdown",
   "id": "02496449",
   "metadata": {},
   "source": [
    "#### Without complaint type 'Animal in a Park'"
   ]
  },
  {
   "cell_type": "code",
   "execution_count": null,
   "id": "9d55081f",
   "metadata": {},
   "outputs": [],
   "source": [
    "Complaint_AvgTime_without = Complaint_AvgTime.drop([len(Complaint_AvgTime)-1],axis=0)\n",
    "Complaint_AvgTime_without"
   ]
  },
  {
   "cell_type": "code",
   "execution_count": null,
   "id": "68177d91",
   "metadata": {},
   "outputs": [],
   "source": [
    "ttest_without, pval_without = stat.ttest_1samp(Complaint_AvgTime_without['DeltaT(in_hr.)'], Tmean_without)\n",
    "print('T-statistic is =',ttest_without)\n",
    "print('p value is =',np.around(pval_without,decimals=8))"
   ]
  },
  {
   "cell_type": "code",
   "execution_count": null,
   "id": "543e6df0",
   "metadata": {},
   "outputs": [],
   "source": [
    "if (pval_without<0.05):\n",
    "    print('Null hypothesis is rejected since p value ({}) is less than 0.05'.format(np.around(pval_without,decimals=2)))\n",
    "else:\n",
    "    print('Null hypothesis is accepted since p value ({}) is greater than 0.05'.format(np.around(pval_without,decimals=2)))"
   ]
  },
  {
   "cell_type": "markdown",
   "id": "c377a657",
   "metadata": {},
   "source": [
    "-  With or without the Hypothesis remain the same."
   ]
  },
  {
   "cell_type": "markdown",
   "id": "6e881ab7",
   "metadata": {},
   "source": [
    "#### (b) 2-sample T-test"
   ]
  },
  {
   "cell_type": "code",
   "execution_count": null,
   "id": "4a565fa3",
   "metadata": {},
   "outputs": [],
   "source": [
    "sample1 = Complaint_AvgTime.sample(frac=.5)\n",
    "sample1"
   ]
  },
  {
   "cell_type": "code",
   "execution_count": null,
   "id": "1514b63f",
   "metadata": {},
   "outputs": [],
   "source": [
    "sample2 = Complaint_AvgTime.drop(sample1.index)\n",
    "sample2"
   ]
  },
  {
   "cell_type": "code",
   "execution_count": null,
   "id": "28377350",
   "metadata": {},
   "outputs": [],
   "source": [
    "print('Mean of 1st sample =',np.around(float(sample1['DeltaT(in_hr.)'].mean()),decimals=2))\n",
    "print('Standard dev. of 1st sample =',np.around(float(sample1['DeltaT(in_hr.)'].std()),decimals=2))\n",
    "print('Mean of 2nd sample =',np.around(float(sample2['DeltaT(in_hr.)'].mean()),decimals=2))\n",
    "print('Standard dev. of 2nd sample =',np.around(float(sample2['DeltaT(in_hr.)'].std()),decimals=2))"
   ]
  },
  {
   "cell_type": "code",
   "execution_count": null,
   "id": "fbf34616",
   "metadata": {},
   "outputs": [],
   "source": [
    "ttest_2sp, p_val = stat.ttest_ind(sample1['DeltaT(in_hr.)'],sample2['DeltaT(in_hr.)'])\n",
    "print('T-statistic is =',ttest_2sp)\n",
    "print('p value is =',np.around(p_val,decimals=2))"
   ]
  },
  {
   "cell_type": "code",
   "execution_count": null,
   "id": "f483dc12",
   "metadata": {},
   "outputs": [],
   "source": [
    "if (p_val<0.05):\n",
    "    print('Null hypothesis is rejected since p value ({}) is less than 0.05'.format(np.around(p_val,decimals=2)))\n",
    "else:\n",
    "    print('Null hypothesis is accepted since p value ({}) is greater than 0.05'.format(np.around(p_val,decimals=2)))"
   ]
  },
  {
   "cell_type": "markdown",
   "id": "5926b98b",
   "metadata": {},
   "source": [
    "#### 2. One way F-test (ANOVA)"
   ]
  },
  {
   "cell_type": "code",
   "execution_count": null,
   "id": "0922f7e0",
   "metadata": {},
   "outputs": [],
   "source": [
    "sample1_anova = Complaint_AvgTime.sample(frac=1/3)\n",
    "sample1_anova"
   ]
  },
  {
   "cell_type": "code",
   "execution_count": null,
   "id": "ec6a241f",
   "metadata": {},
   "outputs": [],
   "source": [
    "rest_data = Complaint_AvgTime.drop(sample1_anova.index)\n",
    "rest_data"
   ]
  },
  {
   "cell_type": "code",
   "execution_count": null,
   "id": "7335726c",
   "metadata": {},
   "outputs": [],
   "source": [
    "sample2_anova = rest_data.sample(frac=1/2)\n",
    "sample2_anova"
   ]
  },
  {
   "cell_type": "code",
   "execution_count": null,
   "id": "6d18b677",
   "metadata": {},
   "outputs": [],
   "source": [
    "sample3_anova = rest_data.drop(sample2_anova.index)\n",
    "sample3_anova"
   ]
  },
  {
   "cell_type": "code",
   "execution_count": null,
   "id": "2072ea30",
   "metadata": {},
   "outputs": [],
   "source": [
    "print('Mean of 1st sample =',np.around(float(sample1_anova['DeltaT(in_hr.)'].mean()),decimals=2))\n",
    "print('Standard dev. of 1st sample =',np.around(float(sample1_anova['DeltaT(in_hr.)'].std()),decimals=2))\n",
    "print('Mean of 2nd sample =',np.around(float(sample2_anova['DeltaT(in_hr.)'].mean()),decimals=2))\n",
    "print('Standard dev. of 2nd sample =',np.around(float(sample2_anova['DeltaT(in_hr.)'].std()),decimals=2))\n",
    "print('Mean of 3rd sample =',np.around(float(sample3_anova['DeltaT(in_hr.)'].mean()),decimals=2))\n",
    "print('Standard dev. of 3rd sample =',np.around(float(sample3_anova['DeltaT(in_hr.)'].std()),decimals=2))"
   ]
  },
  {
   "cell_type": "markdown",
   "id": "f3e944e0",
   "metadata": {},
   "source": [
    "#### (a) Shapiro-Wilk normality test for each data group"
   ]
  },
  {
   "cell_type": "code",
   "execution_count": null,
   "id": "caf70320",
   "metadata": {},
   "outputs": [],
   "source": [
    "f_val,p_val = stat.shapiro(sample1_anova['DeltaT(in_hr.)'])\n",
    "print('F-statistic is =',f_val)\n",
    "print('p value is =',np.around(p_val,decimals=2))"
   ]
  },
  {
   "cell_type": "code",
   "execution_count": null,
   "id": "14a687a2",
   "metadata": {},
   "outputs": [],
   "source": [
    "f_val,p_val = stat.shapiro(sample2_anova['DeltaT(in_hr.)'])\n",
    "print('F-statistic is =',f_val)\n",
    "print('p value is =',np.around(p_val,decimals=2))"
   ]
  },
  {
   "cell_type": "code",
   "execution_count": null,
   "id": "f13924f5",
   "metadata": {},
   "outputs": [],
   "source": [
    "f_val,p_val = stat.shapiro(sample3_anova['DeltaT(in_hr.)'])\n",
    "print('F-statistic is =',f_val)\n",
    "print('p value is =',np.around(p_val,decimals=2))"
   ]
  },
  {
   "cell_type": "markdown",
   "id": "0d3b7b24",
   "metadata": {},
   "source": [
    " - All p values are greater than 0.05\n",
    " - Fail to reject the null hypothesis\n",
    " - Samples come from populations that follow normal distribution"
   ]
  },
  {
   "cell_type": "markdown",
   "id": "0b56ba28",
   "metadata": {},
   "source": [
    "#### (b) Levene variance test  "
   ]
  },
  {
   "cell_type": "code",
   "execution_count": null,
   "id": "1eb0742e",
   "metadata": {},
   "outputs": [],
   "source": [
    "f_val,p_val = stat.levene(sample1_anova['DeltaT(in_hr.)'],sample2_anova['DeltaT(in_hr.)'],sample3_anova['DeltaT(in_hr.)'])\n",
    "print('F-statistic is =',f_val)\n",
    "print('p value is =',np.around(p_val,decimals=2))"
   ]
  },
  {
   "cell_type": "code",
   "execution_count": null,
   "id": "ab8bd5b5",
   "metadata": {},
   "outputs": [],
   "source": [
    "if (p_val<0.05):\n",
    "    print('Null hypothesis is rejected since p value ({}) is less than 0.05'.format(np.around(p_val,decimals=2)))\n",
    "else:\n",
    "    print('Null hypothesis is accepted since p value ({}) is greater than 0.05'.format(np.around(p_val,decimals=2)))"
   ]
  },
  {
   "cell_type": "markdown",
   "id": "4066355b",
   "metadata": {},
   "source": [
    "#### (d) Again independent 2-sample T-test\n",
    "\n",
    "We already checked the independent T-test for 2 samples. Let's do the same for 3 samples and check the consistency."
   ]
  },
  {
   "cell_type": "code",
   "execution_count": null,
   "id": "0c848560",
   "metadata": {},
   "outputs": [],
   "source": [
    "t_val,p_val = stat.ttest_ind(sample1_anova['DeltaT(in_hr.)'],sample2_anova['DeltaT(in_hr.)'])\n",
    "print('T-statistic for sample 1 and 2 is =',t_val)\n",
    "print('p value is =',np.around(p_val,decimals=2))"
   ]
  },
  {
   "cell_type": "code",
   "execution_count": null,
   "id": "01eb6665",
   "metadata": {},
   "outputs": [],
   "source": [
    "t_val,p_val = stat.ttest_ind(sample1_anova['DeltaT(in_hr.)'],sample3_anova['DeltaT(in_hr.)'])\n",
    "print('T-statistic for sample 1 and 3 is =',t_val)\n",
    "print('p value is =',np.around(p_val,decimals=2))"
   ]
  },
  {
   "cell_type": "code",
   "execution_count": null,
   "id": "1c1e112c",
   "metadata": {},
   "outputs": [],
   "source": [
    "t_val,p_val = stat.ttest_ind(sample2_anova['DeltaT(in_hr.)'],sample3_anova['DeltaT(in_hr.)'])\n",
    "print('T-statistic for sample 2 and 3 is =',t_val)\n",
    "print('p value is =',np.around(p_val,decimals=2))"
   ]
  },
  {
   "cell_type": "markdown",
   "id": "d510e3c0",
   "metadata": {},
   "source": [
    " - All the cases p-value is greater than 0.05\n",
    " - Fail to reject the null hypothesis.\n",
    "\n",
    "All the tests (T-test, F-test) provide a common conclusion. That is we fail to reject the 'Null hypothesis'. \n",
    "\n",
    " - Null Hypothesis states - there is no significant relationship among the average response time across complaint types\n",
    "\n",
    " - Alternate Hypothesis states - there is a significant relationship among the average response time across complaint types\n",
    "\n",
    "Thus we may conclude that there is no significant relationship among the average response time across complaint types or they are not similar types."
   ]
  },
  {
   "cell_type": "markdown",
   "id": "2e164ccb",
   "metadata": {},
   "source": [
    " - Are the type of complaint or service requested and location related?"
   ]
  },
  {
   "cell_type": "code",
   "execution_count": null,
   "id": "7069b839",
   "metadata": {},
   "outputs": [],
   "source": [
    "print('Null data in Complaint Type =',data_mod['Complaint Type'].isnull().sum())\n",
    "print('Null data in City =',data_mod['City'].isnull().sum())"
   ]
  },
  {
   "cell_type": "code",
   "execution_count": null,
   "id": "a5e66041",
   "metadata": {},
   "outputs": [],
   "source": [
    "df_cc = data_mod[['Complaint Type','City']]\n",
    "df_cc = df_cc.dropna()\n",
    "#df_cc.isnull().sum()\n",
    "#df_cc"
   ]
  },
  {
   "cell_type": "code",
   "execution_count": null,
   "id": "cfc94368",
   "metadata": {},
   "outputs": [],
   "source": [
    "City_Complaint = pd.crosstab(data_mod['Complaint Type'],data_mod['City'],margins=True, margins_name='Total')\n",
    "#City_Complaint = pd.crosstab(df_cc['Complaint Type'],df_cc['City'])\n",
    "City_Complaint.head(6)"
   ]
  },
  {
   "cell_type": "markdown",
   "id": "2be8549e",
   "metadata": {},
   "source": [
    "Applying the ANOVA for a few combinations and let's see how does it go?"
   ]
  },
  {
   "cell_type": "code",
   "execution_count": null,
   "id": "e1922ada",
   "metadata": {},
   "outputs": [],
   "source": [
    "print(\"For 'ARVERNE' and 'ASTORIA' pair -------\")\n",
    "f_val,p_val = stat.f_oneway(City_Complaint['ARVERNE'],City_Complaint['ASTORIA'])\n",
    "print('F-statistic is =',f_val)\n",
    "print('p value is =',np.around(p_val,decimals=2))"
   ]
  },
  {
   "cell_type": "code",
   "execution_count": null,
   "id": "d92aac5a",
   "metadata": {},
   "outputs": [],
   "source": [
    "print(\"For 'ARVERNE' and 'BROOKLYN' pair -------\")\n",
    "f_val,p_val = stat.f_oneway(City_Complaint['ARVERNE'],City_Complaint['BROOKLYN'])\n",
    "print('F-statistic is =',f_val)\n",
    "print('p value is =',np.around(p_val,decimals=2))"
   ]
  },
  {
   "cell_type": "code",
   "execution_count": null,
   "id": "4f36b643",
   "metadata": {},
   "outputs": [],
   "source": [
    "print(\"For 'HOLLIS' and 'JAMAICA' pair -------\")\n",
    "f_val,p_val = stat.f_oneway(City_Complaint['HOLLIS'],City_Complaint['JAMAICA'])\n",
    "print('F-statistic is =',f_val)\n",
    "print('p value is =',np.around(p_val,decimals=2))"
   ]
  },
  {
   "cell_type": "code",
   "execution_count": null,
   "id": "e8cbd45c",
   "metadata": {},
   "outputs": [],
   "source": [
    "print(\"For 'MASPETH' and 'QUEENS' pair -------\")\n",
    "f_val,p_val = stat.f_oneway(City_Complaint['MASPETH'],City_Complaint['QUEENS'])\n",
    "print('F-statistic is =',f_val)\n",
    "print('p value is =',np.around(p_val,decimals=2))"
   ]
  },
  {
   "cell_type": "markdown",
   "id": "e4c4ae8f",
   "metadata": {},
   "source": [
    "We have seen a few of the pairs. And it seems p-value is around 0.05. This is a very insufficient number of pair checking. So, though it looks like 'neglecting Null Hypothesis', but we can not certain unless checking all pairs ($^{53}{C}_{2}$ combinations for 53 cities). Even for 21 complaint types, it is still $^{21}{C}_{2}$ combinations.\n",
    "\n",
    "It is more proper to use the chai square contingency test for such data structure. It gives us the correlation between different features (here different cities for a given complaint type).\n",
    "\n",
    " - Null Hypothesis states - there is no dependence or relation among the features\n",
    " - Alternate Hypothesis states - there is a relation among the features"
   ]
  },
  {
   "cell_type": "markdown",
   "id": "497a0fc2",
   "metadata": {},
   "source": [
    "#### Chai square Contigency test "
   ]
  },
  {
   "cell_type": "code",
   "execution_count": null,
   "id": "5239eddf",
   "metadata": {},
   "outputs": [],
   "source": [
    "chai2, p_val, df, exp_frq = stat.chi2_contingency(City_Complaint)"
   ]
  },
  {
   "cell_type": "code",
   "execution_count": null,
   "id": "bf71911a",
   "metadata": {},
   "outputs": [],
   "source": [
    "print('Chai square value =',chai2)\n",
    "print('p-value is =',p_val)"
   ]
  },
  {
   "cell_type": "code",
   "execution_count": null,
   "id": "57d16706",
   "metadata": {},
   "outputs": [],
   "source": [
    "\n",
    "\n",
    "\n",
    "if (p_val<0.05):\n",
    "    print('Null hypothesis is rejected since p value ({}) is less than 0.05'.format(np.around(p_val,decimals=2)))\n",
    "else:\n",
    "    print('Null hypothesis is accepted since p value ({}) is greater than 0.05'.format(np.around(p_val,decimals=2)))"
   ]
  },
  {
   "cell_type": "markdown",
   "id": "eb9b8033",
   "metadata": {},
   "source": [
    "#### conclusion\n",
    "Thus we may conclude that there is a relationship between the type of complaint or service requested and location."
   ]
  },
  {
   "cell_type": "code",
   "execution_count": null,
   "id": "0747b685",
   "metadata": {},
   "outputs": [],
   "source": []
  },
  {
   "cell_type": "code",
   "execution_count": null,
   "id": "93d3b3ec",
   "metadata": {},
   "outputs": [],
   "source": []
  },
  {
   "cell_type": "code",
   "execution_count": null,
   "id": "97df6083",
   "metadata": {},
   "outputs": [],
   "source": []
  }
 ],
 "metadata": {
  "kernelspec": {
   "display_name": "Python 3 (ipykernel)",
   "language": "python",
   "name": "python3"
  },
  "language_info": {
   "codemirror_mode": {
    "name": "ipython",
    "version": 3
   },
   "file_extension": ".py",
   "mimetype": "text/x-python",
   "name": "python",
   "nbconvert_exporter": "python",
   "pygments_lexer": "ipython3",
   "version": "3.9.12"
  }
 },
 "nbformat": 4,
 "nbformat_minor": 5
}
